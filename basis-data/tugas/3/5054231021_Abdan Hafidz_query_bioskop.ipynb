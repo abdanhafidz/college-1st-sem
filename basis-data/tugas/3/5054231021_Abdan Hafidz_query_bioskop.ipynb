{
 "cells": [
  {
   "cell_type": "markdown",
   "metadata": {},
   "source": [
    "Set up Koneksi database"
   ]
  },
  {
   "cell_type": "code",
   "execution_count": 19,
   "metadata": {},
   "outputs": [],
   "source": [
    "import mysql.connector\n",
    "db_con = mysql.connector.connect(\n",
    "  host=\"localhost\",\n",
    "  user=\"root\",\n",
    "  password=\"\",\n",
    "  database=\"bioskop\"\n",
    ")\n",
    "cr = db_con.cursor()\n"
   ]
  },
  {
   "cell_type": "markdown",
   "metadata": {},
   "source": [
    "buat fungsi query"
   ]
  },
  {
   "cell_type": "code",
   "execution_count": 20,
   "metadata": {},
   "outputs": [],
   "source": [
    "def sql_query(qr):\n",
    "    cr.execute(qr)\n",
    "    myresult = cr.fetchall()\n",
    "    for x in myresult:\n",
    "        print(x)\n"
   ]
  },
  {
   "cell_type": "markdown",
   "metadata": {},
   "source": [
    "Select semua data dari tabel kategori:"
   ]
  },
  {
   "cell_type": "code",
   "execution_count": 21,
   "metadata": {},
   "outputs": [
    {
     "name": "stdout",
     "output_type": "stream",
     "text": [
      "(1, 'Action')\n",
      "(2, 'Drama')\n",
      "(3, 'Comedy')\n",
      "(4, 'Science Fiction')\n",
      "(5, 'Horror')\n",
      "(6, 'Romance')\n",
      "(7, 'Thriller')\n",
      "(8, 'Fantasy')\n",
      "(9, 'Adventure')\n",
      "(10, 'Mystery')\n"
     ]
    }
   ],
   "source": [
    "sql_query(\"SELECT * FROM kategori\")"
   ]
  },
  {
   "cell_type": "markdown",
   "metadata": {},
   "source": [
    "Select semua data dari tabel aktor yang lahir di \"Kota 1\":"
   ]
  },
  {
   "cell_type": "code",
   "execution_count": 22,
   "metadata": {},
   "outputs": [],
   "source": [
    "sql_query(\"SELECT * FROM aktor WHERE kota_lahir = 'New York'\")"
   ]
  },
  {
   "cell_type": "markdown",
   "metadata": {},
   "source": [
    "Select judul dan tahun rilis dari film-film yang memiliki id_genre 2 (misalnya, aksi):"
   ]
  },
  {
   "cell_type": "code",
   "execution_count": 23,
   "metadata": {},
   "outputs": [
    {
     "name": "stdout",
     "output_type": "stream",
     "text": [
      "('Film 2', 2010)\n"
     ]
    }
   ],
   "source": [
    "sql_query(\"SELECT judul, tahun_rilis FROM film WHERE id_genre = 2\")"
   ]
  },
  {
   "cell_type": "markdown",
   "metadata": {},
   "source": [
    "Select nama aktor dan tahun lahirnya yang terlibat dalam film dengan judul \"Film 2\":\n"
   ]
  },
  {
   "cell_type": "code",
   "execution_count": 24,
   "metadata": {},
   "outputs": [
    {
     "name": "stdout",
     "output_type": "stream",
     "text": [
      "('Aktor 2', 1992)\n"
     ]
    }
   ],
   "source": [
    "sql_query(\"SELECT nama_aktor, tahun_lahir FROM aktor WHERE id_aktor IN (SELECT id_aktor FROM aktor_membintangi WHERE id_film = (SELECT id_film FROM film WHERE judul = 'Film 2'))\")"
   ]
  },
  {
   "cell_type": "markdown",
   "metadata": {},
   "source": [
    "Select judul film dan genre yang sesuai dari film yang dirilis sebelum tahun 2019:\n"
   ]
  },
  {
   "cell_type": "code",
   "execution_count": 25,
   "metadata": {},
   "outputs": [
    {
     "name": "stdout",
     "output_type": "stream",
     "text": [
      "('Film 2', 'Drama')\n",
      "('Judul Film 7 Baru', 'Action')\n"
     ]
    }
   ],
   "source": [
    "sql_query(\"SELECT film.judul, kategori.genre FROM film JOIN kategori ON film.id_genre = kategori.id_genre WHERE film.tahun_rilis < 2019\")\n"
   ]
  },
  {
   "cell_type": "markdown",
   "metadata": {},
   "source": [
    "Select semua aktor yang tidak memiliki nilai NULL di kolom tahun_lahir:\n"
   ]
  },
  {
   "cell_type": "code",
   "execution_count": 26,
   "metadata": {},
   "outputs": [
    {
     "name": "stdout",
     "output_type": "stream",
     "text": [
      "(1, 'Aktor 1', 'Kota 1', 1990)\n",
      "(2, 'Aktor 2', 'Kota 2', 1992)\n",
      "(3, 'Aktor 3', 'Kota 3', 1988)\n",
      "(4, 'Aktor 4', 'Kota 4', 1995)\n",
      "(5, 'Aktor 5', 'Kota 5', 1991)\n",
      "(6, 'Aktor 6', 'Kota 6', 1993)\n",
      "(7, 'Aktor 7', 'Kota 7', 1989)\n",
      "(8, 'Aktor 8', 'Kota 8', 1994)\n",
      "(9, 'Aktor 9', 'Kota 9', 1996)\n",
      "(10, 'Aktor 10', 'Kota 10', 1997)\n"
     ]
    }
   ],
   "source": [
    "sql_query(\"SELECT * FROM aktor WHERE tahun_lahir IS NOT NULL\")"
   ]
  },
  {
   "cell_type": "markdown",
   "metadata": {},
   "source": [
    "Select rata-rata tahun rilis dari semua film:"
   ]
  },
  {
   "cell_type": "code",
   "execution_count": 27,
   "metadata": {},
   "outputs": [
    {
     "name": "stdout",
     "output_type": "stream",
     "text": [
      "(Decimal('2012.5000'),)\n"
     ]
    }
   ],
   "source": [
    "sql_query(\"SELECT AVG(tahun_rilis) AS rata_tahun_rilis FROM film\")"
   ]
  },
  {
   "cell_type": "markdown",
   "metadata": {},
   "source": [
    "Select nama aktor dan judul film yang mereka bintangi:"
   ]
  },
  {
   "cell_type": "code",
   "execution_count": 28,
   "metadata": {},
   "outputs": [
    {
     "name": "stdout",
     "output_type": "stream",
     "text": [
      "('Aktor 2', 'Film 2')\n",
      "('Aktor 7', 'Judul Film 7 Baru')\n"
     ]
    }
   ],
   "source": [
    "sql_query(\"SELECT aktor.nama_aktor, film.judul FROM aktor JOIN aktor_membintangi ON aktor.id_aktor = aktor_membintangi.id_aktor JOIN film ON aktor_membintangi.id_film = film.id_film\")"
   ]
  },
  {
   "cell_type": "markdown",
   "metadata": {},
   "source": [
    "Select jumlah film yang dirilis pada tahun 2018 untuk setiap genre:\n"
   ]
  },
  {
   "cell_type": "code",
   "execution_count": 29,
   "metadata": {},
   "outputs": [
    {
     "name": "stdout",
     "output_type": "stream",
     "text": [
      "('Drama', 1)\n"
     ]
    }
   ],
   "source": [
    "sql_query(\"SELECT kategori.genre, COUNT(*) AS jumlah_film FROM film JOIN kategori ON film.id_genre = kategori.id_genre WHERE film.tahun_rilis = 2010 GROUP BY kategori.genre\")"
   ]
  },
  {
   "cell_type": "markdown",
   "metadata": {},
   "source": [
    "Select aktor yang lahir pada tahun 1990 atau kemudian:"
   ]
  },
  {
   "cell_type": "code",
   "execution_count": 30,
   "metadata": {},
   "outputs": [
    {
     "name": "stdout",
     "output_type": "stream",
     "text": [
      "(1, 'Aktor 1', 'Kota 1', 1990)\n",
      "(2, 'Aktor 2', 'Kota 2', 1992)\n",
      "(4, 'Aktor 4', 'Kota 4', 1995)\n",
      "(5, 'Aktor 5', 'Kota 5', 1991)\n",
      "(6, 'Aktor 6', 'Kota 6', 1993)\n",
      "(8, 'Aktor 8', 'Kota 8', 1994)\n",
      "(9, 'Aktor 9', 'Kota 9', 1996)\n",
      "(10, 'Aktor 10', 'Kota 10', 1997)\n"
     ]
    }
   ],
   "source": [
    "sql_query(\"SELECT * FROM aktor WHERE tahun_lahir >= 1990\")"
   ]
  }
 ],
 "metadata": {
  "kernelspec": {
   "display_name": "Python 3",
   "language": "python",
   "name": "python3"
  },
  "language_info": {
   "codemirror_mode": {
    "name": "ipython",
    "version": 3
   },
   "file_extension": ".py",
   "mimetype": "text/x-python",
   "name": "python",
   "nbconvert_exporter": "python",
   "pygments_lexer": "ipython3",
   "version": "3.11.2"
  }
 },
 "nbformat": 4,
 "nbformat_minor": 2
}
