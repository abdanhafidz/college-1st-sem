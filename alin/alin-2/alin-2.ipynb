{
 "cells": [
  {
   "cell_type": "markdown",
   "metadata": {},
   "source": [
    "Skew Matrix \n",
    "a[i][j] = a[j][i]"
   ]
  },
  {
   "cell_type": "code",
   "execution_count": 1,
   "metadata": {},
   "outputs": [
    {
     "ename": "ModuleNotFoundError",
     "evalue": "No module named 'numpy'",
     "output_type": "error",
     "traceback": [
      "\u001b[1;31m---------------------------------------------------------------------------\u001b[0m",
      "\u001b[1;31mModuleNotFoundError\u001b[0m                       Traceback (most recent call last)",
      "Cell \u001b[1;32mIn[1], line 1\u001b[0m\n\u001b[1;32m----> 1\u001b[0m \u001b[39mimport\u001b[39;00m \u001b[39mnumpy\u001b[39;00m \u001b[39mas\u001b[39;00m \u001b[39mnp\u001b[39;00m\n\u001b[0;32m      2\u001b[0m X \u001b[39m=\u001b[39m [[\u001b[39m7\u001b[39m,\u001b[39m5\u001b[39m,\u001b[39m6\u001b[39m],\n\u001b[0;32m      3\u001b[0m      [\u001b[39m-\u001b[39m\u001b[39m5\u001b[39m,\u001b[39m0\u001b[39m,\u001b[39m4\u001b[39m],\n\u001b[0;32m      4\u001b[0m      [\u001b[39m-\u001b[39m\u001b[39m6\u001b[39m,\u001b[39m-\u001b[39m\u001b[39m4\u001b[39m,\u001b[39m2\u001b[39m]\n\u001b[0;32m      5\u001b[0m      ]\n\u001b[0;32m      6\u001b[0m X\u001b[39m.\u001b[39mtranspose()\n",
      "\u001b[1;31mModuleNotFoundError\u001b[0m: No module named 'numpy'"
     ]
    }
   ],
   "source": [
    "import numpy as np\n",
    "X = [[7,5,6],\n",
    "     [-5,0,4],\n",
    "     [-6,-4,2]\n",
    "     ]\n",
    "X.transpose()\n",
    "for t in X:\n",
    "    print(t)"
   ]
  }
 ],
 "metadata": {
  "kernelspec": {
   "display_name": "Python 3",
   "language": "python",
   "name": "python3"
  },
  "language_info": {
   "codemirror_mode": {
    "name": "ipython",
    "version": 3
   },
   "file_extension": ".py",
   "mimetype": "text/x-python",
   "name": "python",
   "nbconvert_exporter": "python",
   "pygments_lexer": "ipython3",
   "version": "3.10.12"
  },
  "orig_nbformat": 4
 },
 "nbformat": 4,
 "nbformat_minor": 2
}
