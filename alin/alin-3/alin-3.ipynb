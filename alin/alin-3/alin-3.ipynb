{
 "cells": [
  {
   "cell_type": "markdown",
   "metadata": {},
   "source": [
    "Matrix Factorization"
   ]
  },
  {
   "cell_type": "code",
   "execution_count": 1,
   "metadata": {},
   "outputs": [
    {
     "ename": "ModuleNotFoundError",
     "evalue": "No module named 'numpy'",
     "output_type": "error",
     "traceback": [
      "\u001b[1;31m---------------------------------------------------------------------------\u001b[0m",
      "\u001b[1;31mModuleNotFoundError\u001b[0m                       Traceback (most recent call last)",
      "\u001b[1;32mc:\\Users\\asus\\OneDrive\\Documents\\kuliah\\alin\\alin-3\\alin-3.ipynb Cell 2\u001b[0m line \u001b[0;36m1\n\u001b[1;32m----> <a href='vscode-notebook-cell:/c%3A/Users/asus/OneDrive/Documents/kuliah/alin/alin-3/alin-3.ipynb#W1sZmlsZQ%3D%3D?line=0'>1</a>\u001b[0m \u001b[39mimport\u001b[39;00m \u001b[39mnumpy\u001b[39;00m \u001b[39mas\u001b[39;00m \u001b[39mnp\u001b[39;00m\n\u001b[0;32m      <a href='vscode-notebook-cell:/c%3A/Users/asus/OneDrive/Documents/kuliah/alin/alin-3/alin-3.ipynb#W1sZmlsZQ%3D%3D?line=2'>3</a>\u001b[0m A \u001b[39m=\u001b[39m [\n\u001b[0;32m      <a href='vscode-notebook-cell:/c%3A/Users/asus/OneDrive/Documents/kuliah/alin/alin-3/alin-3.ipynb#W1sZmlsZQ%3D%3D?line=3'>4</a>\u001b[0m     [\u001b[39m2\u001b[39m,\u001b[39m-\u001b[39m\u001b[39m3\u001b[39m,\u001b[39m1\u001b[39m,\u001b[39m0\u001b[39m,\u001b[39m-\u001b[39m\u001b[39m4\u001b[39m],\n\u001b[0;32m      <a href='vscode-notebook-cell:/c%3A/Users/asus/OneDrive/Documents/kuliah/alin/alin-3/alin-3.ipynb#W1sZmlsZQ%3D%3D?line=4'>5</a>\u001b[0m     [\u001b[39m1\u001b[39m,\u001b[39m5\u001b[39m,\u001b[39m-\u001b[39m\u001b[39m2\u001b[39m,\u001b[39m3\u001b[39m,\u001b[39m-\u001b[39m\u001b[39m1\u001b[39m],\n\u001b[0;32m      <a href='vscode-notebook-cell:/c%3A/Users/asus/OneDrive/Documents/kuliah/alin/alin-3/alin-3.ipynb#W1sZmlsZQ%3D%3D?line=5'>6</a>\u001b[0m     [\u001b[39m0\u001b[39m,\u001b[39m-\u001b[39m\u001b[39m4\u001b[39m,\u001b[39m-\u001b[39m\u001b[39m2\u001b[39m,\u001b[39m7\u001b[39m,\u001b[39m-\u001b[39m\u001b[39m1\u001b[39m]\n\u001b[0;32m      <a href='vscode-notebook-cell:/c%3A/Users/asus/OneDrive/Documents/kuliah/alin/alin-3/alin-3.ipynb#W1sZmlsZQ%3D%3D?line=6'>7</a>\u001b[0m     ]\n\u001b[0;32m      <a href='vscode-notebook-cell:/c%3A/Users/asus/OneDrive/Documents/kuliah/alin/alin-3/alin-3.ipynb#W1sZmlsZQ%3D%3D?line=7'>8</a>\u001b[0m B \u001b[39m=\u001b[39m [\n\u001b[0;32m      <a href='vscode-notebook-cell:/c%3A/Users/asus/OneDrive/Documents/kuliah/alin/alin-3/alin-3.ipynb#W1sZmlsZQ%3D%3D?line=8'>9</a>\u001b[0m     [\u001b[39m6\u001b[39m,\u001b[39m4\u001b[39m],\n\u001b[0;32m     <a href='vscode-notebook-cell:/c%3A/Users/asus/OneDrive/Documents/kuliah/alin/alin-3/alin-3.ipynb#W1sZmlsZQ%3D%3D?line=9'>10</a>\u001b[0m     [\u001b[39m-\u001b[39m\u001b[39m2\u001b[39m,\u001b[39m1\u001b[39m],\n\u001b[1;32m   (...)\u001b[0m\n\u001b[0;32m     <a href='vscode-notebook-cell:/c%3A/Users/asus/OneDrive/Documents/kuliah/alin/alin-3/alin-3.ipynb#W1sZmlsZQ%3D%3D?line=12'>13</a>\u001b[0m     [\u001b[39m5\u001b[39m,\u001b[39m2\u001b[39m]\n\u001b[0;32m     <a href='vscode-notebook-cell:/c%3A/Users/asus/OneDrive/Documents/kuliah/alin/alin-3/alin-3.ipynb#W1sZmlsZQ%3D%3D?line=13'>14</a>\u001b[0m     ]\n",
      "\u001b[1;31mModuleNotFoundError\u001b[0m: No module named 'numpy'"
     ]
    }
   ],
   "source": [
    "import numpy as np\n",
    "\n",
    "A = [\n",
    "    [2,-3,1,0,-4],\n",
    "    [1,5,-2,3,-1],\n",
    "    [0,-4,-2,7,-1]\n",
    "    ]\n",
    "B = [\n",
    "    [6,4],\n",
    "    [-2,1],\n",
    "    [-3,7],\n",
    "    [-1,3],\n",
    "    [5,2]\n",
    "    ]\n",
    "print(np.dot(A,B))"
   ]
  }
 ],
 "metadata": {
  "kernelspec": {
   "display_name": "Python 3",
   "language": "python",
   "name": "python3"
  },
  "language_info": {
   "codemirror_mode": {
    "name": "ipython",
    "version": 3
   },
   "file_extension": ".py",
   "mimetype": "text/x-python",
   "name": "python",
   "nbconvert_exporter": "python",
   "pygments_lexer": "ipython3",
   "version": "3.10.12"
  },
  "orig_nbformat": 4
 },
 "nbformat": 4,
 "nbformat_minor": 2
}
