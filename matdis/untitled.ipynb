{
 "cells": [
  {
   "cell_type": "markdown",
   "metadata": {},
   "source": [
    "a_1 = 1, a_2 = 1, dan a_n = a_(n-1) + 2a_(n-2)"
   ]
  },
  {
   "cell_type": "code",
   "execution_count": null,
   "metadata": {},
   "outputs": [],
   "source": [
    "# Initialize memoization array with -1\n",
    "memo = [-1 for i in range(n_max)]\n",
    "\n",
    "#  Base cases\n",
    "memo[1] = 1\n",
    "memo[2] = 1\n",
    "\n",
    "# Recursive function to calculate f(n)\n",
    "procedure f(n)\n",
    "begin\n",
    "    if memo[n] is not equal to -1 then\n",
    "        return memo[n]\n",
    "    else\n",
    "        memo[n] = f(n-1) + 2*f(n-2)\n",
    "        return memo[n]\n",
    "    end if\n",
    "end procedure"
   ]
  }
 ],
 "metadata": {
  "language_info": {
   "name": "python"
  }
 },
 "nbformat": 4,
 "nbformat_minor": 2
}
