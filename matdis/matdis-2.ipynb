{
 "cells": [
  {
   "cell_type": "code",
   "execution_count": 12,
   "metadata": {},
   "outputs": [
    {
     "name": "stdout",
     "output_type": "stream",
     "text": [
      "16\n"
     ]
    }
   ],
   "source": [
    "memo = [-1 for x in range(100)]\n",
    "memo[0] = 1\n",
    "def x(a,n):\n",
    "    if(memo[n] != -1):\n",
    "        return memo[n]\n",
    "    else:\n",
    "        if(n>0):\n",
    "            memo[n] = a*x(a,n-1)\n",
    "        else:\n",
    "            memo[n] = 0\n",
    "        return memo[n]\n",
    "print(x(2,4))"
   ]
  },
  {
   "cell_type": "code",
   "execution_count": 15,
   "metadata": {},
   "outputs": [
    {
     "name": "stdout",
     "output_type": "stream",
     "text": [
      "120\n"
     ]
    }
   ],
   "source": [
    "memo = [-1 for x in range(100)]\n",
    "memo[0] = 1\n",
    "def y(n):\n",
    "    if(memo[n] != -1):\n",
    "        return memo[n]\n",
    "    else:\n",
    "        if(n>0):\n",
    "            memo[n] = n*y(n-1)\n",
    "        else:\n",
    "            memo[n] = 0\n",
    "        return memo[n]\n",
    "print(y(5))"
   ]
  }
 ],
 "metadata": {
  "kernelspec": {
   "display_name": "Python 3",
   "language": "python",
   "name": "python3"
  },
  "language_info": {
   "codemirror_mode": {
    "name": "ipython",
    "version": 3
   },
   "file_extension": ".py",
   "mimetype": "text/x-python",
   "name": "python",
   "nbconvert_exporter": "python",
   "pygments_lexer": "ipython3",
   "version": "3.10.12"
  }
 },
 "nbformat": 4,
 "nbformat_minor": 2
}
