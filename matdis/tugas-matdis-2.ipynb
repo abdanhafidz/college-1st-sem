{
 "cells": [
  {
   "cell_type": "markdown",
   "metadata": {},
   "source": [
    "Create Recursive with Memoization Model"
   ]
  },
  {
   "cell_type": "code",
   "execution_count": null,
   "metadata": {},
   "outputs": [],
   "source": []
  },
  {
   "cell_type": "code",
   "execution_count": 56,
   "metadata": {},
   "outputs": [],
   "source": [
    "class RecursiveModel:\n",
    "    def __init__(self, basecase, memosize,opr):\n",
    "        self.basecase = basecase\n",
    "        self.memosize = memosize\n",
    "        self.memo =  [-1 for x in range(memosize)]\n",
    "    def BuildBasecase(self):\n",
    "        for x in self.basecase:\n",
    "            self.memo.append(int(x))\n",
    "    def f(self,n):\n",
    "        if(self.memo[n] != -1):\n",
    "            return self.memo[n]\n",
    "        else:\n",
    "            if(n>0):\n",
    "                parami = opr[0].split(\":\")[1]\n",
    "                self.memo[n]  = int(self.f(exec(parami),opr))\n",
    "                for x in opr :\n",
    "                    param = x.split(\":\")[1]\n",
    "                    operation = x.split(\":\")[0]\n",
    "                    self.memo[n]  = int(exec(self.memo[n],operation,param))\n",
    "            else:\n",
    "                self.memo[n] = 0\n",
    "            return self.memo[n]"
   ]
  },
  {
   "cell_type": "code",
   "execution_count": 57,
   "metadata": {},
   "outputs": [
    {
     "ename": "TypeError",
     "evalue": "list indices must be integers or slices, not NoneType",
     "output_type": "error",
     "traceback": [
      "\u001b[1;31m---------------------------------------------------------------------------\u001b[0m",
      "\u001b[1;31mTypeError\u001b[0m                                 Traceback (most recent call last)",
      "\u001b[1;32mc:\\Users\\asus\\OneDrive\\Documents\\kuliah\\matdis\\tugas-matdis-2.ipynb Cell 3\u001b[0m line \u001b[0;36m5\n\u001b[0;32m      <a href='vscode-notebook-cell:/c%3A/Users/asus/OneDrive/Documents/kuliah/matdis/tugas-matdis-2.ipynb#W2sZmlsZQ%3D%3D?line=0'>1</a>\u001b[0m \u001b[39m# fibonacci\u001b[39;00m\n\u001b[0;32m      <a href='vscode-notebook-cell:/c%3A/Users/asus/OneDrive/Documents/kuliah/matdis/tugas-matdis-2.ipynb#W2sZmlsZQ%3D%3D?line=2'>3</a>\u001b[0m fibo \u001b[39m=\u001b[39m RecursiveModel([\u001b[39m0\u001b[39m,\u001b[39m1\u001b[39m],\u001b[39m41\u001b[39m)\n\u001b[1;32m----> <a href='vscode-notebook-cell:/c%3A/Users/asus/OneDrive/Documents/kuliah/matdis/tugas-matdis-2.ipynb#W2sZmlsZQ%3D%3D?line=4'>5</a>\u001b[0m \u001b[39mprint\u001b[39m(fibo\u001b[39m.\u001b[39;49mf(\u001b[39m5\u001b[39;49m,[\u001b[39m\"\u001b[39;49m\u001b[39m+:n-1\u001b[39;49m\u001b[39m\"\u001b[39;49m,\u001b[39m\"\u001b[39;49m\u001b[39m+:n-2\u001b[39;49m\u001b[39m\"\u001b[39;49m]))\n",
      "\u001b[1;32mc:\\Users\\asus\\OneDrive\\Documents\\kuliah\\matdis\\tugas-matdis-2.ipynb Cell 3\u001b[0m line \u001b[0;36m1\n\u001b[0;32m     <a href='vscode-notebook-cell:/c%3A/Users/asus/OneDrive/Documents/kuliah/matdis/tugas-matdis-2.ipynb#W2sZmlsZQ%3D%3D?line=12'>13</a>\u001b[0m \u001b[39mif\u001b[39;00m(n\u001b[39m>\u001b[39m\u001b[39m0\u001b[39m):\n\u001b[0;32m     <a href='vscode-notebook-cell:/c%3A/Users/asus/OneDrive/Documents/kuliah/matdis/tugas-matdis-2.ipynb#W2sZmlsZQ%3D%3D?line=13'>14</a>\u001b[0m     parami \u001b[39m=\u001b[39m opr[\u001b[39m0\u001b[39m]\u001b[39m.\u001b[39msplit(\u001b[39m\"\u001b[39m\u001b[39m:\u001b[39m\u001b[39m\"\u001b[39m)[\u001b[39m1\u001b[39m]\n\u001b[1;32m---> <a href='vscode-notebook-cell:/c%3A/Users/asus/OneDrive/Documents/kuliah/matdis/tugas-matdis-2.ipynb#W2sZmlsZQ%3D%3D?line=14'>15</a>\u001b[0m     \u001b[39mself\u001b[39m\u001b[39m.\u001b[39mmemo[n]  \u001b[39m=\u001b[39m \u001b[39mint\u001b[39m(\u001b[39mself\u001b[39;49m\u001b[39m.\u001b[39;49mf(exec(parami),opr))\n\u001b[0;32m     <a href='vscode-notebook-cell:/c%3A/Users/asus/OneDrive/Documents/kuliah/matdis/tugas-matdis-2.ipynb#W2sZmlsZQ%3D%3D?line=15'>16</a>\u001b[0m     \u001b[39mfor\u001b[39;00m x \u001b[39min\u001b[39;00m opr :\n\u001b[0;32m     <a href='vscode-notebook-cell:/c%3A/Users/asus/OneDrive/Documents/kuliah/matdis/tugas-matdis-2.ipynb#W2sZmlsZQ%3D%3D?line=16'>17</a>\u001b[0m         param \u001b[39m=\u001b[39m x\u001b[39m.\u001b[39msplit(\u001b[39m\"\u001b[39m\u001b[39m:\u001b[39m\u001b[39m\"\u001b[39m)[\u001b[39m1\u001b[39m]\n",
      "\u001b[1;32mc:\\Users\\asus\\OneDrive\\Documents\\kuliah\\matdis\\tugas-matdis-2.ipynb Cell 3\u001b[0m line \u001b[0;36m1\n\u001b[0;32m      <a href='vscode-notebook-cell:/c%3A/Users/asus/OneDrive/Documents/kuliah/matdis/tugas-matdis-2.ipynb#W2sZmlsZQ%3D%3D?line=8'>9</a>\u001b[0m \u001b[39mdef\u001b[39;00m \u001b[39mf\u001b[39m(\u001b[39mself\u001b[39m,n,opr):\n\u001b[1;32m---> <a href='vscode-notebook-cell:/c%3A/Users/asus/OneDrive/Documents/kuliah/matdis/tugas-matdis-2.ipynb#W2sZmlsZQ%3D%3D?line=9'>10</a>\u001b[0m     \u001b[39mif\u001b[39;00m(\u001b[39mself\u001b[39;49m\u001b[39m.\u001b[39;49mmemo[n] \u001b[39m!=\u001b[39m \u001b[39m-\u001b[39m\u001b[39m1\u001b[39m):\n\u001b[0;32m     <a href='vscode-notebook-cell:/c%3A/Users/asus/OneDrive/Documents/kuliah/matdis/tugas-matdis-2.ipynb#W2sZmlsZQ%3D%3D?line=10'>11</a>\u001b[0m         \u001b[39mreturn\u001b[39;00m \u001b[39mself\u001b[39m\u001b[39m.\u001b[39mmemo[n]\n\u001b[0;32m     <a href='vscode-notebook-cell:/c%3A/Users/asus/OneDrive/Documents/kuliah/matdis/tugas-matdis-2.ipynb#W2sZmlsZQ%3D%3D?line=11'>12</a>\u001b[0m     \u001b[39melse\u001b[39;00m:\n",
      "\u001b[1;31mTypeError\u001b[0m: list indices must be integers or slices, not NoneType"
     ]
    }
   ],
   "source": [
    "# fibonacci\n",
    "\n",
    "fibo = RecursiveModel([0,1],41)\n",
    "\n",
    "print(fibo.f(5,[\"+:n-1\",\"+:n-2\"]))"
   ]
  }
 ],
 "metadata": {
  "kernelspec": {
   "display_name": "Python 3",
   "language": "python",
   "name": "python3"
  },
  "language_info": {
   "codemirror_mode": {
    "name": "ipython",
    "version": 3
   },
   "file_extension": ".py",
   "mimetype": "text/x-python",
   "name": "python",
   "nbconvert_exporter": "python",
   "pygments_lexer": "ipython3",
   "version": "3.11.2"
  }
 },
 "nbformat": 4,
 "nbformat_minor": 2
}
