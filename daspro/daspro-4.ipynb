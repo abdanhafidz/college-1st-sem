{
 "cells": [
  {
   "cell_type": "code",
   "execution_count": 1,
   "metadata": {},
   "outputs": [
    {
     "name": "stdout",
     "output_type": "stream",
     "text": [
      "2\n",
      "3\n",
      "6\n"
     ]
    }
   ],
   "source": [
    "for i in range(1,4):\n",
    "    for j in range(1,i):\n",
    "        print(i*j)"
   ]
  },
  {
   "cell_type": "code",
   "execution_count": 2,
   "metadata": {},
   "outputs": [
    {
     "name": "stdout",
     "output_type": "stream",
     "text": [
      "ya\n"
     ]
    }
   ],
   "source": [
    "isganjil = 0\n",
    "N = int(input())\n",
    "while(N > 1):\n",
    "    if (N % 2 == 1):\n",
    "        isganjil = 1\n",
    "        break\n",
    "    N /= 2\n",
    "    \n",
    "if isganjil == 1 :\n",
    "    print(\"bukan\")\n",
    "else:\n",
    "    print(\"ya\")"
   ]
  },
  {
   "cell_type": "code",
   "execution_count": 8,
   "metadata": {},
   "outputs": [
    {
     "name": "stdout",
     "output_type": "stream",
     "text": [
      "5 1\n"
     ]
    }
   ],
   "source": [
    "n = int(input())\n",
    "angka = []\n",
    "\n",
    "\n",
    "for i in range(n):\n",
    "    x = int(input())\n",
    "    angka.append(x)\n",
    "    \n",
    "maks = angka[0]\n",
    "mini = angka[0]\n",
    "\n",
    "for i in range(n):\n",
    "    if angka[i] > maks :\n",
    "        maks = angka[i]\n",
    "    if angka [i] < mini :\n",
    "        mini = angka[i]\n",
    "print(maks,mini)"
   ]
  }
 ],
 "metadata": {
  "kernelspec": {
   "display_name": "Python 3",
   "language": "python",
   "name": "python3"
  },
  "language_info": {
   "codemirror_mode": {
    "name": "ipython",
    "version": 3
   },
   "file_extension": ".py",
   "mimetype": "text/x-python",
   "name": "python",
   "nbconvert_exporter": "python",
   "pygments_lexer": "ipython3",
   "version": "3.10.12"
  },
  "orig_nbformat": 4
 },
 "nbformat": 4,
 "nbformat_minor": 2
}
