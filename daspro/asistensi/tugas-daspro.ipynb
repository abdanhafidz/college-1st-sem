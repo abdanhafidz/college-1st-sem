{
 "cells": [
  {
   "cell_type": "markdown",
   "metadata": {},
   "source": [
    "SOAL 1\n",
    "Bersama kuli membangun negeri"
   ]
  },
  {
   "cell_type": "code",
   "execution_count": 27,
   "metadata": {},
   "outputs": [
    {
     "name": "stdout",
     "output_type": "stream",
     "text": [
      "3  250 lembar ribuan\n",
      "1  100 lembar ribuan\n",
      "0  50 lembar ribuan\n",
      "1  20 lembar ribuan\n",
      "0  10 lembar ribuan\n",
      "1  5 lembar ribuan\n"
     ]
    }
   ],
   "source": [
    "\n",
    "harga = int(input())\n",
    "p25 = 0\n",
    "p100 = 0\n",
    "p50 = 0\n",
    "p20 = 0\n",
    "p10 = 0\n",
    "p5 = 0\n",
    "\n",
    "p25+=harga//250\n",
    "harga -= p25*250\n",
    "p100+=harga//100\n",
    "harga -= p100*100\n",
    "p50+=harga//50\n",
    "harga -= p50*50\n",
    "p20+=harga//20\n",
    "harga -= p20*20\n",
    "p10+=harga//10\n",
    "harga -= p10*10\n",
    "p5 += harga//5\n",
    "harga -= p5*5\n",
    "\n",
    "if(harga == 0):\n",
    "    print(p25,\" 250 lembar ribuan\")\n",
    "    print(p100,\" 100 lembar ribuan\")\n",
    "    print(p50,\" 50 lembar ribuan\")\n",
    "    print(p20,\" 20 lembar ribuan\")\n",
    "    print(p10,\" 10 lembar ribuan\")\n",
    "    print(p5,\" 5 lembar ribuan\")\n",
    "else:\n",
    "    print(\"Harganya Jelek :(\")\n",
    "\n",
    "\n"
   ]
  },
  {
   "cell_type": "markdown",
   "metadata": {},
   "source": [
    "SOAL 2\n",
    "Teori bilangan dikit ga ngaruh"
   ]
  },
  {
   "cell_type": "code",
   "execution_count": 80,
   "metadata": {},
   "outputs": [
    {
     "name": "stdout",
     "output_type": "stream",
     "text": [
      "kamis\n"
     ]
    }
   ],
   "source": [
    "x = int(input())\n",
    "hari = [\"senin\",\"selasa\",\"rabu\",\"kamis\",\"jumat\",\"sabtu\",\"minggu\"]\n",
    "idx = (x - 1900 + x//4)%7\n",
    "print(hari[idx])"
   ]
  },
  {
   "cell_type": "markdown",
   "metadata": {},
   "source": [
    "SOAL 3\n",
    "\n",
    "<p>Menghitung banyak jumlah bilangan ganjil untuk interval [a,b]\n",
    "Konsep Himpunan :\n",
    "Misal x = hasil jumlah b bilangan ganjil pertama\n",
    "y = hasil jumlah a bilangan ganjil pertama\n",
    "\n",
    "Maka hasil jumlah bilangan ganjil interval (a,b) adalah y - x\n",
    "Karena inklusif tambahkan jumlahkan a dan b : - Jika setiap angka bukan ganjil jadikan ganjil (kurangkan 1)\n",
    "Misal x = [1,2,3,4,5] -> [1,3,5] (a = 5)\n",
    "y = [1,2,3,4,5,6,7,8,9] ->[1,3,5,7,9] (b = 9)\n",
    "y - x = [7,9]\n",
    "Menentukan a dan b adalah suku ke berapa di deret ganjil :\n",
    "2n - 1 = a atau b\n",
    "2n = a atau b + 1\n",
    "n = (a atau b + 1)/2\n",
    "\n",
    "\n",
    "Rumus Sn bilangan ganjil adalah : Sn = n/2(1+2n-1) = n^2 = n*n\n",
    "\n",
    "\n",
    "if(a%2 < 1) a-=1\n",
    "if(b%2 < 1) b-=1\n",
    "\n",
    "Sum = b*b - a*a\n",
    "\n",
    "a U b = a + b - b Irisan a\n",
    "\n",
    "a irisan b = a\n",
    "</p>"
   ]
  },
  {
   "cell_type": "code",
   "execution_count": 44,
   "metadata": {},
   "outputs": [
    {
     "name": "stdout",
     "output_type": "stream",
     "text": [
      "25\n"
     ]
    }
   ],
   "source": [
    "import math\n",
    "a = int(input())\n",
    "b = int(input())\n",
    "sum = 0\n",
    "if(a>0 and a%2 == 0):\n",
    "    a-=1\n",
    "else:\n",
    "    sum += a\n",
    "if(b>0 and b%2 == 0):\n",
    "    b-=1\n",
    "a = math.ceil(a/2)\n",
    "b = math.ceil(b/2)\n",
    "sum += b*b - a*a\n",
    "\n",
    "print(sum)\n",
    "#a = 3 -> {1,3}\n",
    "#b = 10 -> {1,3,5,7,9}"
   ]
  },
  {
   "cell_type": "markdown",
   "metadata": {},
   "source": [
    "SOAL 4\n",
    "\n",
    "Urutkan nilai p w c <br>\n",
    "Gunakan prinsip segitiga  <br>\n",
    "didapat identitas baru untuk <br>\n",
    "p < w < c <br>\n",
    "#Segitiga Sama sisi <br>\n",
    "p = w = c <br>\n",
    "#Segitiga sama kaki / sembarang <br>\n",
    "p + w > c"
   ]
  },
  {
   "cell_type": "code",
   "execution_count": 7,
   "metadata": {},
   "outputs": [
    {
     "name": "stdout",
     "output_type": "stream",
     "text": [
      "3   4  5\n",
      "Tri-Force dapat terbentuk!\n"
     ]
    }
   ],
   "source": [
    "\n",
    "x = []\n",
    "for i in range(0,3):\n",
    "    temp = int(input())\n",
    "    x.append(temp)\n",
    "x.sort()\n",
    "if(x[0] == x[1] == x[2] or x[0]+x[1]>x[2] and x[0]>0 and x[1]>0 and x[2]>0):\n",
    "    print(\"Tri-Force dapat terbentuk!\")\n",
    "else:\n",
    "    print(\"Tri-Force gagal terbentuk :(\")"
   ]
  },
  {
   "cell_type": "markdown",
   "metadata": {},
   "source": [
    "SOAL 5\n",
    "\n",
    "https://www.m4th-lab.net/2017/06/menentukan-banyak-angka-nol-berurutan.html"
   ]
  },
  {
   "cell_type": "code",
   "execution_count": 14,
   "metadata": {},
   "outputs": [
    {
     "name": "stdout",
     "output_type": "stream",
     "text": [
      "24\n",
      "Gas pol rem blong, Rink!\n"
     ]
    }
   ],
   "source": [
    "k = 5\n",
    "n = int(input())\n",
    "trailZero = 0\n",
    "while(k<=n):\n",
    "    trailZero+=n//k\n",
    "    k*=5\n",
    "print(trailZero)\n",
    "if(trailZero%4 == 0):\n",
    "    print(\"Gas pol rem blong, Rink!\")\n",
    "else:\n",
    "    print(\"Tuker dulu Rink!\")"
   ]
  },
  {
   "cell_type": "markdown",
   "metadata": {},
   "source": [
    "SOAL 6\n",
    "Pake Time Library PYTHON AJA WAOKWKWKWKKW"
   ]
  },
  {
   "cell_type": "code",
   "execution_count": 25,
   "metadata": {},
   "outputs": [
    {
     "name": "stdout",
     "output_type": "stream",
     "text": [
      "Tanggal : 17   Agustus   1945\n",
      "Hari : Jumat\n"
     ]
    }
   ],
   "source": [
    "import datetime\n",
    "hariIndo = [\"Senin\",\"Selasa\",\"Rabu\",\"Kamis\",\"Jumat\",\"Sabtu\",\"Minggu\"]\n",
    "bulanIndo = [\"Januari\",\"Februari\",\"Maret\",\"April\",\"Mei\",\"Juni\",\"Juli\",\"Agustus\",\"September\",\"Oktober\",\"November\",\"Desember\"]\n",
    "tgl = input()\n",
    "bln = input()\n",
    "tahun = input()\n",
    "s = tahun + bln + tgl\n",
    "wangywangy = datetime.datetime.strptime(s, '%Y%m%d')\n",
    "huha = wangywangy.weekday()\n",
    "print(\"Tanggal :\",tgl,\" \",bulanIndo[int(bln) - 1],\" \",tahun)\n",
    "print(\"Hari :\",hariIndo[huha])"
   ]
  }
 ],
 "metadata": {
  "kernelspec": {
   "display_name": "Python 3",
   "language": "python",
   "name": "python3"
  },
  "language_info": {
   "codemirror_mode": {
    "name": "ipython",
    "version": 3
   },
   "file_extension": ".py",
   "mimetype": "text/x-python",
   "name": "python",
   "nbconvert_exporter": "python",
   "pygments_lexer": "ipython3",
   "version": "3.10.12"
  },
  "orig_nbformat": 4
 },
 "nbformat": 4,
 "nbformat_minor": 2
}
