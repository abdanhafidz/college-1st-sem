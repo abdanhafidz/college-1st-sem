{
 "cells": [
  {
   "cell_type": "code",
   "execution_count": 4,
   "metadata": {},
   "outputs": [
    {
     "name": "stdout",
     "output_type": "stream",
     "text": [
      "Tangga  1\n",
      "###..###\n",
      " ###..###\n",
      "  ###..###\n"
     ]
    }
   ],
   "source": [
    "T = int(input())\n",
    "def solve():\n",
    "    N = int(input())\n",
    "    M = int(input())\n",
    "    S = input()\n",
    "    l = []\n",
    "    for i in range(1,N+1):l.append(\"#\")\n",
    "    idx = N // 2\n",
    "    idx2 = (N // 2) - 1\n",
    "    if(N%2 == 0):\n",
    "        l[idx] = \".\"\n",
    "        l[idx2] = \".\"\n",
    "    else:\n",
    "        l[idx] = \".\"\n",
    "    if(S == \"left\"):\n",
    "        for i in range(1,M+1):\n",
    "            for j in range(1,M-i+1):\n",
    "                print(\" \",end=\"\")\n",
    "            for k in range(0,N):\n",
    "                print(l[k],end=\"\")\n",
    "            print()\n",
    "    elif(S == \"right\"):\n",
    "        for i in range(1,M+1):\n",
    "            for j in range(1,i):\n",
    "                print(\" \",end=\"\")\n",
    "            for k in range(0,N):\n",
    "                print(l[k],end=\"\")\n",
    "            print()\n",
    "    else:\n",
    "        print(\"Command not found!\")\n",
    "\n",
    "while(T>0):\n",
    "    no = 1\n",
    "    print(\"Tangga \", no)\n",
    "    solve()\n",
    "    no+=1\n",
    "    T-=1"
   ]
  }
 ],
 "metadata": {
  "kernelspec": {
   "display_name": "Python 3",
   "language": "python",
   "name": "python3"
  },
  "language_info": {
   "codemirror_mode": {
    "name": "ipython",
    "version": 3
   },
   "file_extension": ".py",
   "mimetype": "text/x-python",
   "name": "python",
   "nbconvert_exporter": "python",
   "pygments_lexer": "ipython3",
   "version": "3.10.12"
  }
 },
 "nbformat": 4,
 "nbformat_minor": 2
}
