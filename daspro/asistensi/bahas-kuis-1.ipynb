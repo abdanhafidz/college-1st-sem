{
 "cells": [
  {
   "cell_type": "markdown",
   "metadata": {},
   "source": [
    "Nomor 1\n",
    "Nentuin pada tanggal dd-mm-yy\n",
    "Hari ke berapa pada tahun tersebut?"
   ]
  },
  {
   "cell_type": "code",
   "execution_count": 4,
   "metadata": {},
   "outputs": [],
   "source": [
    "def isLapYear(n):\n",
    "    if((n%100 == 0 and n%400 == 0) or (n%4 == 0 and n%100 > 0)):\n",
    "        return 1\n",
    "    else:\n",
    "        return 0"
   ]
  },
  {
   "cell_type": "markdown",
   "metadata": {},
   "source": [
    "Soal 2\n"
   ]
  },
  {
   "cell_type": "code",
   "execution_count": 5,
   "metadata": {},
   "outputs": [
    {
     "name": "stdout",
     "output_type": "stream",
     "text": [
      "Enter the service number [1 atau 2]>>\n"
     ]
    },
    {
     "ename": "ValueError",
     "evalue": "invalid literal for int() with base 10: ''",
     "output_type": "error",
     "traceback": [
      "\u001b[1;31m---------------------------------------------------------------------------\u001b[0m",
      "\u001b[1;31mValueError\u001b[0m                                Traceback (most recent call last)",
      "\u001b[1;32mc:\\Users\\asus\\OneDrive\\Documents\\kuliah\\daspro\\asistensi\\bahas-kuis-1.ipynb Cell 4\u001b[0m line \u001b[0;36m2\n\u001b[0;32m      <a href='vscode-notebook-cell:/c%3A/Users/asus/OneDrive/Documents/kuliah/daspro/asistensi/bahas-kuis-1.ipynb#W5sZmlsZQ%3D%3D?line=0'>1</a>\u001b[0m \u001b[39mprint\u001b[39m(\u001b[39m\"\u001b[39m\u001b[39mEnter the service number [1 atau 2]>>\u001b[39m\u001b[39m\"\u001b[39m)\n\u001b[1;32m----> <a href='vscode-notebook-cell:/c%3A/Users/asus/OneDrive/Documents/kuliah/daspro/asistensi/bahas-kuis-1.ipynb#W5sZmlsZQ%3D%3D?line=1'>2</a>\u001b[0m s \u001b[39m=\u001b[39m \u001b[39mint\u001b[39;49m(\u001b[39minput\u001b[39;49m())\n\u001b[0;32m      <a href='vscode-notebook-cell:/c%3A/Users/asus/OneDrive/Documents/kuliah/daspro/asistensi/bahas-kuis-1.ipynb#W5sZmlsZQ%3D%3D?line=2'>3</a>\u001b[0m \u001b[39mprint\u001b[39m(\u001b[39m\"\u001b[39m\u001b[39mEnter the Miles number>>\u001b[39m\u001b[39m\"\u001b[39m)\n\u001b[0;32m      <a href='vscode-notebook-cell:/c%3A/Users/asus/OneDrive/Documents/kuliah/daspro/asistensi/bahas-kuis-1.ipynb#W5sZmlsZQ%3D%3D?line=3'>4</a>\u001b[0m k \u001b[39m=\u001b[39m \u001b[39mint\u001b[39m(\u001b[39minput\u001b[39m())\n",
      "\u001b[1;31mValueError\u001b[0m: invalid literal for int() with base 10: ''"
     ]
    }
   ],
   "source": [
    "print(\"Enter the service number [1 atau 2]>>\")\n",
    "s = int(input())\n",
    "print(\"Enter the Miles number>>\")\n",
    "k = int(input())\n",
    "if(s == 1):\n",
    "    if(k>1500 and k<=3000):\n",
    "        print(\"Vehicle must be serviced\")\n",
    "    else:\n",
    "        print(\"Vehicle doesn't need to be serviced\")\n",
    "elif(s == 2):\n",
    "    if(k>3001 and k<=4500):\n",
    "        print(\"Vehicle must be serviced\")\n",
    "    else:\n",
    "        print(\"Vehicle doesn't need to be serviced\")"
   ]
  },
  {
   "cell_type": "code",
   "execution_count": 9,
   "metadata": {},
   "outputs": [],
   "source": [
    "for i in range(5,0):\n",
    "    print(i)"
   ]
  }
 ],
 "metadata": {
  "kernelspec": {
   "display_name": "Python 3",
   "language": "python",
   "name": "python3"
  },
  "language_info": {
   "codemirror_mode": {
    "name": "ipython",
    "version": 3
   },
   "file_extension": ".py",
   "mimetype": "text/x-python",
   "name": "python",
   "nbconvert_exporter": "python",
   "pygments_lexer": "ipython3",
   "version": "3.10.12"
  }
 },
 "nbformat": 4,
 "nbformat_minor": 2
}
