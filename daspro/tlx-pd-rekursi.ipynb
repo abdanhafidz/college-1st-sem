{
 "cells": [
  {
   "cell_type": "code",
   "execution_count": 7,
   "metadata": {},
   "outputs": [
    {
     "name": "stdout",
     "output_type": "stream",
     "text": [
      "\n",
      "*\n",
      "**\n",
      "*\n",
      "***\n",
      "*\n",
      "**\n",
      "*\n",
      "****\n",
      "*\n",
      "**\n",
      "*\n",
      "***\n",
      "*\n",
      "**\n",
      "*\n"
     ]
    }
   ],
   "source": [
    "memo = [-1 for x in range(11)]\n",
    "memo[1] = \"*\\n\"\n",
    "memo[2] = \"\\n*\\n**\\n*\"\n",
    "#memo[n] = f(n)\n",
    "#f(2) = memo[2] \n",
    "def f(n):\n",
    "    if(memo[n] != -1):\n",
    "        return memo[n]\n",
    "    else:\n",
    "        if(n>=2):\n",
    "            memo[n] = f(n-1)\n",
    "            memo[n] += \"\\n\"\n",
    "            for i in range(1,n+1):\n",
    "                memo[n] += \"*\"\n",
    "            memo[n] += f(n-1)\n",
    "        else:\n",
    "            memo[n] = 0\n",
    "        return memo[n]\n",
    "\n",
    "n = int(input())\n",
    "print(f(n))"
   ]
  },
  {
   "cell_type": "code",
   "execution_count": 11,
   "metadata": {},
   "outputs": [
    {
     "name": "stdout",
     "output_type": "stream",
     "text": [
      "*\n",
      "**\n",
      "*\n",
      "***\n",
      "*\n",
      "**\n",
      "*\n"
     ]
    }
   ],
   "source": [
    "\n",
    "def pegunungan(N):\n",
    "    gambar = \"\"\n",
    "    if (N >= 2):\n",
    "        gambar = pegunungan(N - 1)\n",
    "        gambar += \"\\n\"\n",
    "        for i in range(1,N+1):\n",
    "            gambar += \"*\"\n",
    "        gambar +=\"\\n\"\n",
    "        gambar += pegunungan(N - 1)\n",
    "        return gambar\n",
    "    elif(N == 1):\n",
    "        return \"*\"\n",
    "N = int(input())\n",
    "print(pegunungan(N))\n"
   ]
  },
  {
   "cell_type": "code",
   "execution_count": 17,
   "metadata": {},
   "outputs": [
    {
     "name": "stdout",
     "output_type": "stream",
     "text": [
      "8\n"
     ]
    }
   ],
   "source": [
    "# baris fibonacci ke n untuk N>=2 adalah hasil jumlah fibonacci ke n - 1 dengan fibonacci ke n - 2\n",
    "# fibo(n) = fibo(n-1) + fibo(n-2)\n",
    "\n",
    "# pegunungan tingkat N adalah diawali pegunungan tingkat N - 1 dan diakhiri\n",
    "# dengan gambar pegunungan tingkat N - 2\n",
    "# pegunungan(N) = pegunungan(N-1) + pegunungan(N - 2)"
   ]
  },
  {
   "cell_type": "code",
   "execution_count": 18,
   "metadata": {},
   "outputs": [
    {
     "name": "stdout",
     "output_type": "stream",
     "text": [
      "*#\n"
     ]
    }
   ],
   "source": [
    "gambar1 = \"*\"\n",
    "gambar2 = \"#\"\n",
    "#buatlah gambar 3 yang mana merupakan gabungan gambar 1 dan gambar 2\n",
    "gambar3 = gambar1 + gambar2\n",
    "print(gambar3)\n",
    "\n",
    "# satu baris berisikan * sebanyak N\n",
    "gambar = \"**\" # N = 2\n",
    "gambar = \"***\" # N  = 3\n",
    "gambar = \"******* ... sebanyak N\"\n",
    "\n",
    "gambar = \"*\"*N"
   ]
  },
  {
   "cell_type": "markdown",
   "metadata": {},
   "source": [
    "Secara umum, pegunungan tingkat N untuk N ≥ 2 diawali dengan pegunungan tingkat N - 1, dilanjutkan dengan satu baris berisikan N buah karakter *, dan diakhiri dengan pegunungan tingkat N - 1.\n",
    "\n",
    "pegunungan(N) = pegunungan(N-1)+ + * x N + pegunungan(N-1)\n",
    "N  = 4\n",
    "pegunungan(4) = pegunungan(3) + **** + pegunungan(3)\n",
    "pegunungan(3) = pegunungan(2) + *** + pegunungan(2)\n",
    "pegunungan(2) = pegunungan(1) + * + pegunungan(1)\n",
    "pegunungan(1) = \"*\""
   ]
  }
 ],
 "metadata": {
  "kernelspec": {
   "display_name": "Python 3",
   "language": "python",
   "name": "python3"
  },
  "language_info": {
   "codemirror_mode": {
    "name": "ipython",
    "version": 3
   },
   "file_extension": ".py",
   "mimetype": "text/x-python",
   "name": "python",
   "nbconvert_exporter": "python",
   "pygments_lexer": "ipython3",
   "version": "3.10.12"
  }
 },
 "nbformat": 4,
 "nbformat_minor": 2
}
