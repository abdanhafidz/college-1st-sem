{
 "cells": [
  {
   "cell_type": "code",
   "execution_count": 3,
   "metadata": {},
   "outputs": [
    {
     "name": "stdout",
     "output_type": "stream",
     "text": [
      "2\n"
     ]
    }
   ],
   "source": [
    "memo = [-1 for x in range(1000)]\n",
    "memo[0] = 0\n",
    "memo[1] = 1\n",
    "#memo[n] = f(n)\n",
    "#f(2) = memo[2] \n",
    "def f(n):\n",
    "    if(memo[n] != -1):\n",
    "        return memo[n]\n",
    "    else:\n",
    "        if(n>0):\n",
    "            memo[n] = min(f(n//2),f(n//3),f(n-1)) + 1\n",
    "        else:\n",
    "            memo[n] = 0\n",
    "        return memo[n]\n",
    "print(f(6))"
   ]
  },
  {
   "cell_type": "code",
   "execution_count": 4,
   "metadata": {},
   "outputs": [
    {
     "name": "stdout",
     "output_type": "stream",
     "text": [
      "2\n"
     ]
    }
   ],
   "source": [
    "def f(n):\n",
    "    if(n <= 1):\n",
    "        return 0\n",
    "    else:\n",
    "        return (min(f(n//2),f(n//3),f(n-1)) + 1)\n",
    "print(f(6))"
   ]
  }
 ],
 "metadata": {
  "kernelspec": {
   "display_name": "Python 3",
   "language": "python",
   "name": "python3"
  },
  "language_info": {
   "codemirror_mode": {
    "name": "ipython",
    "version": 3
   },
   "file_extension": ".py",
   "mimetype": "text/x-python",
   "name": "python",
   "nbconvert_exporter": "python",
   "pygments_lexer": "ipython3",
   "version": "3.11.2"
  }
 },
 "nbformat": 4,
 "nbformat_minor": 2
}
