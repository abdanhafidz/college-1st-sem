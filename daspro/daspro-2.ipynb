{
 "cells": [
  {
   "cell_type": "markdown",
   "metadata": {},
   "source": [
    "Diberikan sebuah baris input bilangan rill, periksa apakah bilangan itu ganjil atau genap serta satuan bilangan tersebut!"
   ]
  },
  {
   "cell_type": "code",
   "execution_count": 6,
   "metadata": {},
   "outputs": [
    {
     "name": "stdout",
     "output_type": "stream",
     "text": [
      "ganjil puluhan\n"
     ]
    }
   ],
   "source": [
    "x = int(input())\n",
    "ket = \"\"\n",
    "if(x%2 == 0):\n",
    "    ket+=\"genap\"\n",
    "else:\n",
    "    ket+=\"ganjil\"\n",
    "if(x<10):\n",
    "    ket+=\" satuan\"\n",
    "elif(x>=10 and x<100):\n",
    "    ket+=\" puluhan\"\n",
    "elif(x>=100 and x<1000):\n",
    "    ket+=\" ratusan\"\n",
    "elif(x>=1000 and x<10000):\n",
    "    ket+=\" ribuan\"\n",
    "print(ket)"
   ]
  },
  {
   "cell_type": "markdown",
   "metadata": {},
   "source": []
  },
  {
   "cell_type": "code",
   "execution_count": 9,
   "metadata": {},
   "outputs": [
    {
     "name": "stdout",
     "output_type": "stream",
     "text": [
      "7 : 20 : 20\n"
     ]
    }
   ],
   "source": [
    "import math\n",
    "pre = input()\n",
    "ex_pre = pre.split(\":\")\n",
    "jam = int(ex_pre[0])*60*60\n",
    "menit = int(ex_pre[1])*60\n",
    "detik = int(ex_pre[2])\n",
    "total_detik = jam+menit+detik;\n",
    "\n",
    "dist = input()\n",
    "dist_pre = dist.split(\" \")\n",
    "dist_jam = int(dist_pre[0])*60*60\n",
    "dist_menit = int(dist_pre[2])*60\n",
    "dist_detik = int(dist_pre[4])\n",
    "total_dist_detik = dist_jam + dist_menit + dist_detik\n",
    "oke = int(input())\n",
    "\n",
    "hour = oke*60*60\n",
    "total_waktu = hour + total_detik + total_dist_detik\n",
    "\n",
    "#1:50:0\n",
    "#1 jam 10 menit 0 detik\n",
    "#2\n",
    "#5:0:0\n",
    "\n",
    "pre_menit = math.floor(total_waktu/60)\n",
    "sec = pre_menit%60\n",
    "pre_jam = math.floor(pre_menit/60)\n",
    "menit = pre_menit%60\n",
    "\n",
    "print(\"Waktu mehas sampai adalah \",pre_jam%24, \":\", menit, \":\", sec)"
   ]
  },
  {
   "cell_type": "markdown",
   "metadata": {},
   "source": [
    "Jika habis dibagi 3 print \"world\"\n",
    "Jika habis dibagi 5 print \"hello world\"\n",
    "Jika habis dibagi 3 dan 5 print \"Hellow world\""
   ]
  },
  {
   "cell_type": "code",
   "execution_count": 5,
   "metadata": {},
   "outputs": [
    {
     "name": "stdout",
     "output_type": "stream",
     "text": [
      "HelloWorld\n"
     ]
    }
   ],
   "source": [
    "x = int(input())\n",
    "\n",
    "if(x%3 == 0 and x%5>0):\n",
    "    print(\"Hello\")\n",
    "if(x%5 == 0 and x%3>0):\n",
    "    print(\"World\")\n",
    "if(x%3 == 0 and x%5 == 0):\n",
    "    print(\"HelloWorld\")\n",
    "if(x%3>0 and x%5>0):\n",
    "    print(x)\n",
    "    \n",
    "\n",
    "    "
   ]
  },
  {
   "cell_type": "code",
   "execution_count": null,
   "metadata": {},
   "outputs": [],
   "source": []
  },
  {
   "cell_type": "code",
   "execution_count": null,
   "metadata": {},
   "outputs": [],
   "source": []
  }
 ],
 "metadata": {
  "kernelspec": {
   "display_name": "Python 3",
   "language": "python",
   "name": "python3"
  },
  "language_info": {
   "codemirror_mode": {
    "name": "ipython",
    "version": 3
   },
   "file_extension": ".py",
   "mimetype": "text/x-python",
   "name": "python",
   "nbconvert_exporter": "python",
   "pygments_lexer": "ipython3",
   "version": "3.10.12"
  },
  "orig_nbformat": 4
 },
 "nbformat": 4,
 "nbformat_minor": 2
}
