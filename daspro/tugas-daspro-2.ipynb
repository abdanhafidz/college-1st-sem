{
 "cells": [
  {
   "cell_type": "code",
   "execution_count": 18,
   "metadata": {},
   "outputs": [
    {
     "name": "stdout",
     "output_type": "stream",
     "text": [
      "63\n",
      "1\n",
      "0\n",
      "12\n"
     ]
    }
   ],
   "source": [
    "import math\n",
    "\n",
    "\n",
    "exp = int(input())\n",
    "hit = math.ceil(exp / 2)\n",
    "print(hit)\n",
    "a = math.floor(hit / 5)\n",
    "hit = hit % 5\n",
    "\n",
    "b = math.floor(hit / 4) \n",
    "hit = hit % 4 \n",
    "\n",
    "c = math.floor(hit / 3) \n",
    "hit = hit % 3\n",
    "\n",
    "\n",
    "print(c)\n",
    "print(b)\n",
    "print(a)\n"
   ]
  },
  {
   "cell_type": "code",
   "execution_count": null,
   "metadata": {},
   "outputs": [],
   "source": [
    "def Gradient(p1,p2):\n",
    "    m = (p2[0] - p1[0])/(p2[1] - p1[1])\n",
    "    return m\n",
    "\n",
    "A = input()\n",
    "A = A.split(\" \")\n",
    "Ax = A[0], Ay = A[1]\n",
    "B = input()\n",
    "B = B.split(\" \")\n",
    "Bx = B[0], By = B[1]\n",
    "C = input()\n",
    "C = C.split(\" \")\n",
    "Cx = C[0], Cy = C[1]\n",
    "P = input()\n",
    "P = P.split(\" \")\n",
    "Px = P[0], Py = P[1]\n",
    "\n",
    "\n",
    "mGrad = {Gradient(A,B),Gradient(A,C),Gradient(B,C)}\n",
    "gradP = {Gradient(P,A),Gradient(P,B),Gradient(P,C)}\n",
    "Inter = mGrad.intersection(gradP)\n",
    "if(len(Inter)>0):\n",
    "    segaris = True\n",
    "else:\n",
    "    segaris = False\n",
    "#numerator x minimum dan maksimum\n",
    "xNum = [max(Ax,Bx,Cx),min(Ax,Bx,Cx)]\n",
    "#numerator y minimum dan maksimum\n",
    "yNum = [max(Ay,By,Cy),min(Ay,By,Cy)]\n",
    "\n",
    "consPoint = [\"f{xNum[0]} {yNum[1]}\",\"f{xNum[1]} {yNum[0]}\"]\n",
    "if(constPoint[0])\n",
    "\n",
    "\n",
    "\n",
    "\n"
   ]
  },
  {
   "cell_type": "code",
   "execution_count": null,
   "metadata": {},
   "outputs": [],
   "source": [
    "n = int(input())\n",
    "arr = input()\n",
    "arr = arr.split(\" \")\n",
    "f = []\n",
    "\n",
    "for x in arr:\n",
    "    f[x] =\n",
    "\n",
    "\n",
    "\n",
    "# a = [1,2,3,4,5,6,6,8,9,9]\n",
    "f[1] = 1\n",
    "f[2] = 1\n"
   ]
  }
 ],
 "metadata": {
  "kernelspec": {
   "display_name": "Python 3",
   "language": "python",
   "name": "python3"
  },
  "language_info": {
   "codemirror_mode": {
    "name": "ipython",
    "version": 3
   },
   "file_extension": ".py",
   "mimetype": "text/x-python",
   "name": "python",
   "nbconvert_exporter": "python",
   "pygments_lexer": "ipython3",
   "version": "3.10.12"
  },
  "orig_nbformat": 4
 },
 "nbformat": 4,
 "nbformat_minor": 2
}
