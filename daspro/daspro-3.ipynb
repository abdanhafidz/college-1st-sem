{
 "cells": [
  {
   "cell_type": "markdown",
   "metadata": {},
   "source": []
  },
  {
   "cell_type": "code",
   "execution_count": 8,
   "metadata": {},
   "outputs": [
    {
     "name": "stdout",
     "output_type": "stream",
     "text": [
      "Owo memiliki sisa waktu sebesar 17  menit 37  detik\n",
      "14\n"
     ]
    }
   ],
   "source": [
    "a = int(input())\n",
    "jam = int(input())\n",
    "menit = int(input())\n",
    "detik = int(input())\n",
    "huha = jam*60*60 + menit*60 + detik\n",
    "remTime = ((9*60*60 + 55*60) - huha)\n",
    "nilai = a*4  - (25 - a)\n",
    "if(remTime > 0 and a>=5):\n",
    "    nilai += 2*(remTime//450)\n",
    "    print(\"Owo memiliki sisa waktu sebesar\",remTime//60,\" menit\",remTime%60, \" detik\")\n",
    "    print(nilai)\n",
    "elif(remTime < 0 and remTime <-600):\n",
    "    nilai -= remTime//150\n",
    "    print(\"Owo terlambat mengumpulkan selama\",abs(remTime//60),\" menit\",abs(remTime%60), \" detik\")\n",
    "    print(nilai)\n",
    "elif(remTime == 0):\n",
    "    print(\"Owo menyelesaikan soal tepat waktu\")\n",
    "    print(nilai)\n",
    "\n",
    " \n",
    "\n",
    "\n"
   ]
  },
  {
   "cell_type": "markdown",
   "metadata": {},
   "source": [
    "\n",
    "SEGITIGA SIKU - SIKU\n",
    "Pada baris ke-i\n",
    "# spasi sebanyak n - i\n",
    "# bintang sebanyak i"
   ]
  },
  {
   "cell_type": "code",
   "execution_count": 19,
   "metadata": {},
   "outputs": [
    {
     "name": "stdout",
     "output_type": "stream",
     "text": [
      "    *    \n",
      "\n",
      "   **   \n",
      "\n",
      "  ***  \n",
      "\n",
      " **** \n",
      "\n",
      "*****\n",
      "\n"
     ]
    }
   ],
   "source": [
    "n = int(input())\n",
    "\n",
    "for i in range(1,n+1):\n",
    "    for j in range(1, n - i + 1):\n",
    "        print(\" \",end = \"\")\n",
    "    for j in range(1,i+1):\n",
    "        print(\"*\", end= \"\")\n",
    "print(\"\\n\")"
   ]
  },
  {
   "cell_type": "markdown",
   "metadata": {},
   "source": [
    "f(1) "
   ]
  },
  {
   "cell_type": "code",
   "execution_count": 21,
   "metadata": {},
   "outputs": [
    {
     "ename": "IndentationError",
     "evalue": "unindent does not match any outer indentation level (<tokenize>, line 4)",
     "output_type": "error",
     "traceback": [
      "\u001b[1;36m  File \u001b[1;32m<tokenize>:4\u001b[1;36m\u001b[0m\n\u001b[1;33m    [1,1][1,2][1,3] -> [i,i+1] <= cetaknya <=\u001b[0m\n\u001b[1;37m    ^\u001b[0m\n\u001b[1;31mIndentationError\u001b[0m\u001b[1;31m:\u001b[0m unindent does not match any outer indentation level\n"
     ]
    }
   ],
   "source": [
    "5\n",
    "\n",
    "bagi 2 segmen : di ceil\n",
    "kita tempatkan\n",
    "            [1,3]          \n",
    "        [2,2][2,3][2,4] -> [i,i+1] <= cetaknya <=\n",
    "    [3,1][3,2][3,3][3,4][3,5]\n",
    "\n",
    "di baris ke - i sebanyak i+1\n",
    "cetak dari [i,(n//2)+] sampai [n - i]\n",
    "interval : (n//2) + 1 <= kolom <= "
   ]
  },
  {
   "cell_type": "code",
   "execution_count": 24,
   "metadata": {},
   "outputs": [
    {
     "name": "stdout",
     "output_type": "stream",
     "text": [
      "  \n",
      "\n",
      " **\n",
      "\n",
      "****\n",
      "\n"
     ]
    }
   ],
   "source": [
    "x = int(input())\n",
    "seg = n//2+1\n",
    "for i in range (1,seg+1):\n",
    "    for j in range (1,i+2):\n",
    "        if(j>=seg+1-i and j<=seg+i-1):\n",
    "            print(\"*\",end=\"\")\n",
    "        else:\n",
    "            print(\" \",end=\"\")\n",
    "    print(\"\\n\")\n",
    "    "
   ]
  },
  {
   "cell_type": "markdown",
   "metadata": {},
   "source": [
    "Fungsi f(x)\n",
    "f(x) = 2x + 2 "
   ]
  },
  {
   "cell_type": "code",
   "execution_count": 5,
   "metadata": {},
   "outputs": [
    {
     "name": "stdout",
     "output_type": "stream",
     "text": [
      "5.0\n"
     ]
    }
   ],
   "source": [
    "def LuasSegitiga(alas,tinggi):\n",
    "    return 0.5*alas*tinggi\n",
    "alas = int(input())\n",
    "tinggi = int(input())\n",
    "print(LuasSegitiga(alas,tinggi))"
   ]
  }
 ],
 "metadata": {
  "kernelspec": {
   "display_name": "Python 3",
   "language": "python",
   "name": "python3"
  },
  "language_info": {
   "codemirror_mode": {
    "name": "ipython",
    "version": 3
   },
   "file_extension": ".py",
   "mimetype": "text/x-python",
   "name": "python",
   "nbconvert_exporter": "python",
   "pygments_lexer": "ipython3",
   "version": "3.10.12"
  },
  "orig_nbformat": 4
 },
 "nbformat": 4,
 "nbformat_minor": 2
}
