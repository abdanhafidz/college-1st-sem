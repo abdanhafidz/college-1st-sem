{
 "cells": [
  {
   "cell_type": "code",
   "execution_count": 1,
   "metadata": {},
   "outputs": [
    {
     "name": "stdout",
     "output_type": "stream",
     "text": [
      "Pattern no : 1\n",
      " .-.-.\n",
      ".-.-.\n",
      " .-.-.\n",
      "Pattern no : 2\n",
      "-.-.-.-.\n",
      " -.-.-.-.\n",
      "-.-.-.-.\n",
      " -.-.-.-.\n",
      "-.-.-.-.\n",
      " -.-.-.-.\n",
      "-.-.-.-.\n",
      " -.-.-.-.\n",
      "-.-.-.-.\n"
     ]
    }
   ],
   "source": [
    "\n",
    "def solve():\n",
    "    pat = input()\n",
    "    row = int(input())\n",
    "    col = int(input())\n",
    "    for i in range(row):\n",
    "        if(pat == \"A\"):\n",
    "            if((i+1)%2 == 1):print(\" \",end=\"\")\n",
    "        if(pat == \"B\"):\n",
    "            if((i+1)%2 == 0):print(\" \",end=\"\")\n",
    "        for j in range (col):\n",
    "            if(pat == \"A\"):\n",
    "                if((j+1)%2 == 1):print(\".\",end=\"\")\n",
    "                if((j+1)%2 == 0):print(\"-\",end=\"\")\n",
    "            if(pat == \"B\"):\n",
    "                if((j+1)%2 == 1):print(\"-\",end=\"\")\n",
    "                if((j+1)%2 == 0):print(\".\",end=\"\")\n",
    "        print()\n",
    "t = int(input())\n",
    "no = 1\n",
    "while t>0:\n",
    "    no\n",
    "    print(\"Pattern no :\",no)\n",
    "    solve()\n",
    "    t-=1\n",
    "    no+=1"
   ]
  },
  {
   "cell_type": "code",
   "execution_count": 59,
   "metadata": {},
   "outputs": [
    {
     "name": "stdout",
     "output_type": "stream",
     "text": [
      "682402574982402468246842798003"
     ]
    }
   ],
   "source": [
    "\n",
    "d = int(input())\n",
    "b = input()\n",
    "r = input()\n",
    "adder = []\n",
    "baru=[]\n",
    "if(r == \"W\"):\n",
    "    for i in range(0,d):\n",
    "        add = (int(b[d-i-1]) * 2)//10\n",
    "        adder.append(add)\n",
    "        baru.append((int(b[d-i-1]) * 2)%10)\n",
    "    for i in range(0,len(baru)):\n",
    "        baru[i] += adder[i - 1]\n",
    "\n",
    "for i in range(0,len(baru)):\n",
    "    print(baru[len(baru)-i-1],end=\"\")"
   ]
  }
 ],
 "metadata": {
  "kernelspec": {
   "display_name": "Python 3",
   "language": "python",
   "name": "python3"
  },
  "language_info": {
   "codemirror_mode": {
    "name": "ipython",
    "version": 3
   },
   "file_extension": ".py",
   "mimetype": "text/x-python",
   "name": "python",
   "nbconvert_exporter": "python",
   "pygments_lexer": "ipython3",
   "version": "3.10.12"
  },
  "orig_nbformat": 4
 },
 "nbformat": 4,
 "nbformat_minor": 2
}
