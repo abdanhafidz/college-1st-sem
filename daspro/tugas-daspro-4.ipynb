{
 "cells": [
  {
   "cell_type": "markdown",
   "metadata": {},
   "source": [
    "Soal Anton Memanggil Dirinya\n",
    "\n",
    "fibonacci biasa\n",
    "f(n) = f(n-1) + f(n-2)\n",
    "f(0) = 0\n",
    "f(1) = 1\n",
    "\n",
    "f(8) = f(7) + f(6)\n",
    "f(7) = f(6) + f(5)\n",
    "f(6) = ....\n"
   ]
  },
  {
   "cell_type": "code",
   "execution_count": 2,
   "metadata": {},
   "outputs": [
    {
     "name": "stdout",
     "output_type": "stream",
     "text": [
      "12791769375\n"
     ]
    }
   ],
   "source": [
    "memo = [-1 for x in range(47)]\n",
    "memo[0] = 0\n",
    "memo[1] = 1\n",
    "#memo[n] = f(n)\n",
    "#f(2) = memo[2] \n",
    "def f(n):\n",
    "    if(memo[n] != -1):\n",
    "        return memo[n]\n",
    "    else:\n",
    "        if(n>0):\n",
    "            memo[n] = f(n-1)+f(n-2)\n",
    "        else:\n",
    "            memo[n] = 0\n",
    "        return memo[n]\n",
    "# f(5)\n",
    "# n = 5\n",
    "# \n",
    "n = int(input())\n",
    "hasil = f(n)*125\n",
    "print(hasil)"
   ]
  },
  {
   "cell_type": "markdown",
   "metadata": {},
   "source": [
    "\n",
    "\n",
    "Base Case\n",
    "f(1) = 0\n",
    "f(2) = 1\n",
    "f(3) = 2\n",
    "\n",
    "f(4) = f(1)+ f(2) +f(3)\n",
    "f(5) = f(2) + f(3) + f(4)\n",
    "f(6) = f(3) + f(4) + f(5)\n",
    "\n",
    "f(n) = f(n-3) + f(n-2) + f(n-1)"
   ]
  },
  {
   "cell_type": "code",
   "execution_count": 16,
   "metadata": {},
   "outputs": [
    {
     "name": "stdout",
     "output_type": "stream",
     "text": [
      "30122\n"
     ]
    }
   ],
   "source": [
    "memo = [-1 for x in range(35)]\n",
    "memo[1] = 0\n",
    "memo[2] = 1\n",
    "memo[3] = 2\n",
    "#memo[n] = f(n)\n",
    "#f(2) = memo[2] \n",
    "def f(n):\n",
    "    if(memo[n] != -1):\n",
    "        return memo[n]\n",
    "    else:\n",
    "        if(n>0):\n",
    "            memo[n] = f(n-3) + f(n-2) + f(n-1)\n",
    "        else:\n",
    "            memo[n] = 0\n",
    "        return memo[n]\n",
    "# f(5)\n",
    "# n = 5\n",
    "# \n",
    "n = int(input())\n",
    "hasil = f(n)\n",
    "print(hasil)"
   ]
  },
  {
   "cell_type": "code",
   "execution_count": 4,
   "metadata": {},
   "outputs": [
    {
     "name": "stdout",
     "output_type": "stream",
     "text": [
      "f( 1 )  =  f( 0 ) +  f( -1 )  + x[ 1 ]\n",
      "f( 1 )  =  9  +  0  +  0 \n",
      "f( 2 )  =  f( 1 ) +  f( 0 )  + x[ 2 ]\n",
      "f( 2 )  =  10  +  9  +  1 \n",
      "f( 3 )  =  f( 2 ) +  f( 1 )  + x[ 3 ]\n",
      "f( 3 )  =  20  +  10  +  0 \n",
      "f( 4 )  =  f( 3 ) +  f( 2 )  + x[ 4 ]\n",
      "f( 4 )  =  30  +  20  +  -1 \n",
      "f( 5 )  =  f( 4 ) +  f( 3 )  + x[ 5 ]\n",
      "f( 5 )  =  49  +  30  +  -2 \n"
     ]
    },
    {
     "name": "stdout",
     "output_type": "stream",
     "text": [
      "196\n"
     ]
    }
   ],
   "source": [
    "memo = [-1 for x in range(39)]\n",
    "memo[0] = 9\n",
    "memo[1] = 10\n",
    "memo[2] = 20\n",
    "#memo[n] = f(n)\n",
    "#f(2) = memo[2] \n",
    "x = [0 for x in range(43)]\n",
    "x[2] = 1\n",
    "x[3] = 0\n",
    "x[4] = -1\n",
    "x[5] = -2\n",
    "for i in range(6,43):\n",
    "    x[i] = x[i-1] - 1\n",
    "def f(n):\n",
    "    if(memo[n] != -1):\n",
    "        return memo[n]\n",
    "    else:\n",
    "        if(n>0):\n",
    "            memo[n] = f(n-1) + f(n-2) + x[n]\n",
    "        else:\n",
    "            memo[n] = 0\n",
    "        return memo[n]\n",
    "# kalau mau debug \n",
    "# for i in range(1,6):\n",
    "    # print(\"f(\",i,\")  = \",\"f(\",i-1,\") + \",\"f(\",i-2,\")\",\" + x[\",i,\"]\")\n",
    "    # print(\"f(\",i,\")  = \",f(i-1), \" + \",f(i-2),\" + \",x[i],\"\")\n",
    "n = int(input())\n",
    "hasil = f(n)\n",
    "print(hasil)\n"
   ]
  },
  {
   "cell_type": "markdown",
   "metadata": {},
   "source": [
    "48\n",
    "20 28\n",
    "8 12 16\n",
    "3 5 7 9 -> f(5) = f(0) + f(1) f(6) = f(1) + f(2)\n",
    "1 2 3 4 5"
   ]
  },
  {
   "cell_type": "code",
   "execution_count": 4,
   "metadata": {},
   "outputs": [
    {
     "ename": "KeyboardInterrupt",
     "evalue": "",
     "output_type": "error",
     "traceback": [
      "\u001b[1;31m---------------------------------------------------------------------------\u001b[0m",
      "\u001b[1;31mKeyboardInterrupt\u001b[0m                         Traceback (most recent call last)",
      "\u001b[1;32mc:\\Users\\asus\\OneDrive\\Documents\\kuliah\\daspro\\tugas-daspro-4.ipynb Cell 7\u001b[0m line \u001b[0;36m6\n\u001b[0;32m      <a href='vscode-notebook-cell:/c%3A/Users/asus/OneDrive/Documents/kuliah/daspro/tugas-daspro-4.ipynb#W6sZmlsZQ%3D%3D?line=3'>4</a>\u001b[0m     \u001b[39melse\u001b[39;00m:\n\u001b[0;32m      <a href='vscode-notebook-cell:/c%3A/Users/asus/OneDrive/Documents/kuliah/daspro/tugas-daspro-4.ipynb#W6sZmlsZQ%3D%3D?line=4'>5</a>\u001b[0m         \u001b[39mreturn\u001b[39;00m f(x \u001b[39m-\u001b[39m \u001b[39m1\u001b[39m) \u001b[39m+\u001b[39m f(x \u001b[39m-\u001b[39m \u001b[39m2\u001b[39m)\n\u001b[1;32m----> <a href='vscode-notebook-cell:/c%3A/Users/asus/OneDrive/Documents/kuliah/daspro/tugas-daspro-4.ipynb#W6sZmlsZQ%3D%3D?line=5'>6</a>\u001b[0m \u001b[39mprint\u001b[39m(f(\u001b[39m40\u001b[39;49m))\n",
      "\u001b[1;32mc:\\Users\\asus\\OneDrive\\Documents\\kuliah\\daspro\\tugas-daspro-4.ipynb Cell 7\u001b[0m line \u001b[0;36m5\n\u001b[0;32m      <a href='vscode-notebook-cell:/c%3A/Users/asus/OneDrive/Documents/kuliah/daspro/tugas-daspro-4.ipynb#W6sZmlsZQ%3D%3D?line=2'>3</a>\u001b[0m     \u001b[39mreturn\u001b[39;00m \u001b[39m1\u001b[39m\n\u001b[0;32m      <a href='vscode-notebook-cell:/c%3A/Users/asus/OneDrive/Documents/kuliah/daspro/tugas-daspro-4.ipynb#W6sZmlsZQ%3D%3D?line=3'>4</a>\u001b[0m \u001b[39melse\u001b[39;00m:\n\u001b[1;32m----> <a href='vscode-notebook-cell:/c%3A/Users/asus/OneDrive/Documents/kuliah/daspro/tugas-daspro-4.ipynb#W6sZmlsZQ%3D%3D?line=4'>5</a>\u001b[0m     \u001b[39mreturn\u001b[39;00m f(x \u001b[39m-\u001b[39;49m \u001b[39m1\u001b[39;49m) \u001b[39m+\u001b[39m f(x \u001b[39m-\u001b[39m \u001b[39m2\u001b[39m)\n",
      "\u001b[1;32mc:\\Users\\asus\\OneDrive\\Documents\\kuliah\\daspro\\tugas-daspro-4.ipynb Cell 7\u001b[0m line \u001b[0;36m5\n\u001b[0;32m      <a href='vscode-notebook-cell:/c%3A/Users/asus/OneDrive/Documents/kuliah/daspro/tugas-daspro-4.ipynb#W6sZmlsZQ%3D%3D?line=2'>3</a>\u001b[0m     \u001b[39mreturn\u001b[39;00m \u001b[39m1\u001b[39m\n\u001b[0;32m      <a href='vscode-notebook-cell:/c%3A/Users/asus/OneDrive/Documents/kuliah/daspro/tugas-daspro-4.ipynb#W6sZmlsZQ%3D%3D?line=3'>4</a>\u001b[0m \u001b[39melse\u001b[39;00m:\n\u001b[1;32m----> <a href='vscode-notebook-cell:/c%3A/Users/asus/OneDrive/Documents/kuliah/daspro/tugas-daspro-4.ipynb#W6sZmlsZQ%3D%3D?line=4'>5</a>\u001b[0m     \u001b[39mreturn\u001b[39;00m f(x \u001b[39m-\u001b[39m \u001b[39m1\u001b[39m) \u001b[39m+\u001b[39m f(x \u001b[39m-\u001b[39;49m \u001b[39m2\u001b[39;49m)\n",
      "    \u001b[1;31m[... skipping similar frames: f at line 5 (26 times)]\u001b[0m\n",
      "\u001b[1;32mc:\\Users\\asus\\OneDrive\\Documents\\kuliah\\daspro\\tugas-daspro-4.ipynb Cell 7\u001b[0m line \u001b[0;36m5\n\u001b[0;32m      <a href='vscode-notebook-cell:/c%3A/Users/asus/OneDrive/Documents/kuliah/daspro/tugas-daspro-4.ipynb#W6sZmlsZQ%3D%3D?line=2'>3</a>\u001b[0m     \u001b[39mreturn\u001b[39;00m \u001b[39m1\u001b[39m\n\u001b[0;32m      <a href='vscode-notebook-cell:/c%3A/Users/asus/OneDrive/Documents/kuliah/daspro/tugas-daspro-4.ipynb#W6sZmlsZQ%3D%3D?line=3'>4</a>\u001b[0m \u001b[39melse\u001b[39;00m:\n\u001b[1;32m----> <a href='vscode-notebook-cell:/c%3A/Users/asus/OneDrive/Documents/kuliah/daspro/tugas-daspro-4.ipynb#W6sZmlsZQ%3D%3D?line=4'>5</a>\u001b[0m     \u001b[39mreturn\u001b[39;00m f(x \u001b[39m-\u001b[39;49m \u001b[39m1\u001b[39;49m) \u001b[39m+\u001b[39m f(x \u001b[39m-\u001b[39m \u001b[39m2\u001b[39m)\n",
      "\u001b[1;31mKeyboardInterrupt\u001b[0m: "
     ]
    }
   ],
   "source": [
    "def f(x):\n",
    "    if(x == 1 or x == 2):\n",
    "        return 1\n",
    "    else:\n",
    "        return f(x - 1) + f(x - 2)\n",
    "print(f(40))"
   ]
  },
  {
   "cell_type": "code",
   "execution_count": null,
   "metadata": {},
   "outputs": [],
   "source": []
  }
 ],
 "metadata": {
  "kernelspec": {
   "display_name": "Python 3",
   "language": "python",
   "name": "python3"
  },
  "language_info": {
   "codemirror_mode": {
    "name": "ipython",
    "version": 3
   },
   "file_extension": ".py",
   "mimetype": "text/x-python",
   "name": "python",
   "nbconvert_exporter": "python",
   "pygments_lexer": "ipython3",
   "version": "3.10.12"
  }
 },
 "nbformat": 4,
 "nbformat_minor": 2
}
