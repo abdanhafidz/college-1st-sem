{
 "cells": [
  {
   "cell_type": "markdown",
   "metadata": {},
   "source": [
    "kita cek pada node i,j jika "
   ]
  },
  {
   "cell_type": "code",
   "execution_count": 4,
   "metadata": {},
   "outputs": [
    {
     "ename": "IndexError",
     "evalue": "list index out of range",
     "output_type": "error",
     "traceback": [
      "\u001b[1;31m---------------------------------------------------------------------------\u001b[0m",
      "\u001b[1;31mIndexError\u001b[0m                                Traceback (most recent call last)",
      "\u001b[1;32mc:\\Users\\asus\\OneDrive\\Documents\\kuliah\\daspro\\daspro-6.ipynb Cell 2\u001b[0m line \u001b[0;36m2\n\u001b[0;32m     <a href='vscode-notebook-cell:/c%3A/Users/asus/OneDrive/Documents/kuliah/daspro/daspro-6.ipynb#W1sZmlsZQ%3D%3D?line=18'>19</a>\u001b[0m \u001b[39mfor\u001b[39;00m j \u001b[39min\u001b[39;00m \u001b[39mrange\u001b[39m(n):\n\u001b[0;32m     <a href='vscode-notebook-cell:/c%3A/Users/asus/OneDrive/Documents/kuliah/daspro/daspro-6.ipynb#W1sZmlsZQ%3D%3D?line=19'>20</a>\u001b[0m     \u001b[39mif\u001b[39;00m(visited[i][j] \u001b[39m==\u001b[39m \u001b[39m0\u001b[39m):\n\u001b[1;32m---> <a href='vscode-notebook-cell:/c%3A/Users/asus/OneDrive/Documents/kuliah/daspro/daspro-6.ipynb#W1sZmlsZQ%3D%3D?line=20'>21</a>\u001b[0m         \u001b[39mif\u001b[39;00m(baris[i][j] \u001b[39m==\u001b[39m \u001b[39m1\u001b[39m):\n\u001b[0;32m     <a href='vscode-notebook-cell:/c%3A/Users/asus/OneDrive/Documents/kuliah/daspro/daspro-6.ipynb#W1sZmlsZQ%3D%3D?line=21'>22</a>\u001b[0m             \u001b[39m# visited[i][j] = 1\u001b[39;00m\n\u001b[0;32m     <a href='vscode-notebook-cell:/c%3A/Users/asus/OneDrive/Documents/kuliah/daspro/daspro-6.ipynb#W1sZmlsZQ%3D%3D?line=22'>23</a>\u001b[0m             count\u001b[39m+\u001b[39m\u001b[39m=\u001b[39m\u001b[39m1\u001b[39m\n\u001b[0;32m     <a href='vscode-notebook-cell:/c%3A/Users/asus/OneDrive/Documents/kuliah/daspro/daspro-6.ipynb#W1sZmlsZQ%3D%3D?line=23'>24</a>\u001b[0m             dfs(i,j)\n",
      "\u001b[1;31mIndexError\u001b[0m: list index out of range"
     ]
    }
   ],
   "source": [
    "m,n = [int(V) for V in input().split()]\n",
    "baris = []\n",
    "for i in range(m):\n",
    "    baris.append([int(V) for V in input().split()])\n",
    "\n",
    "visited = [ [0 for i in range(n)] for i in range(m) ]\n",
    "def dfs(x,y):\n",
    "    if(x<0 or y<0 or x>m-1 or y>n-1):\n",
    "        return \n",
    "    elif(visited[x][y] == 0 and baris[x][y] == 1):\n",
    "        visited[x][y] = 1\n",
    "        dfs(x+1,y)\n",
    "        dfs(x,y+1)\n",
    "        dfs(x-1,y)\n",
    "        dfs(x,y-1)\n",
    "\n",
    "count = 0\n",
    "for i in range(m):\n",
    "    for j in range(n):\n",
    "        if(visited[i][j] == 0):\n",
    "            if(baris[i][j] == 1):\n",
    "                # visited[i][j] = 1\n",
    "                count+=1\n",
    "                dfs(i,j)\n",
    "print(count)\n",
    "    \n"
   ]
  }
 ],
 "metadata": {
  "kernelspec": {
   "display_name": "Python 3",
   "language": "python",
   "name": "python3"
  },
  "language_info": {
   "codemirror_mode": {
    "name": "ipython",
    "version": 3
   },
   "file_extension": ".py",
   "mimetype": "text/x-python",
   "name": "python",
   "nbconvert_exporter": "python",
   "pygments_lexer": "ipython3",
   "version": "3.10.12"
  }
 },
 "nbformat": 4,
 "nbformat_minor": 2
}
