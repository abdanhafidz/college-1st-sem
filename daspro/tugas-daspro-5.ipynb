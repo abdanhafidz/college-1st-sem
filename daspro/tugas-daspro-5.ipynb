{
 "cells": [
  {
   "cell_type": "code",
   "execution_count": 4,
   "metadata": {},
   "outputs": [
    {
     "name": "stdout",
     "output_type": "stream",
     "text": [
      "f( 1 )  =  f( 0 ) +  f( -2 ) f( -4 )\n",
      "f( 1 )  =  1  +  0  +  0 \n",
      "f( 2 )  =  f( 1 ) +  f( -1 ) f( -3 )\n",
      "f( 2 )  =  1  +  0  +  0 \n",
      "f( 3 )  =  f( 2 ) +  f( 0 ) f( -2 )\n",
      "f( 3 )  =  1  +  1  +  0 \n",
      "f( 4 )  =  f( 3 ) +  f( 1 ) f( -1 )\n",
      "f( 4 )  =  2  +  1  +  0 \n",
      "f( 5 )  =  f( 4 ) +  f( 2 ) f( 0 )\n",
      "f( 5 )  =  3  +  1  +  1 \n",
      "f( 6 )  =  f( 5 ) +  f( 3 ) f( 1 )\n",
      "f( 6 )  =  5  +  2  +  1 \n",
      "8\n"
     ]
    }
   ],
   "source": [
    "FungsiA    = [-1 for x in range(100)]\n",
    "FungsiA[0] = 1\n",
    "FungsiA[1] = 1 \n",
    "FungsiA[2] = 1\n",
    "FungsiA[3] = 2\n",
    "FungsiA[4] = 3\n",
    "FungsiA[5] = 5\n",
    "def FA(n) :\n",
    "    if(FungsiA[n] != -1):\n",
    "        return FungsiA[n]\n",
    "    else :\n",
    "        if(n > 0) :\n",
    "            FungsiA[n] = FA(n - 1) + FA(n - 3) + FA(n - 5)\n",
    "        else :\n",
    "            FungsiA[n] = 0\n",
    "        return FungsiA[n]\n",
    "\n",
    "n = int(input())\n",
    "hasil = FA(n)\n",
    "# kalau mau debug \n",
    "for i in range(1,7):\n",
    "    print(\"f(\",i,\")  = \",\"f(\",i-1,\") + \",\"f(\",i-3,\")\",\"f(\",i-5,\")\")\n",
    "    print(\"f(\",i,\")  = \",FA(i-1), \" + \",FA(i-3),\" + \",FA(i-5),\"\")\n",
    "print(hasil)"
   ]
  },
  {
   "cell_type": "markdown",
   "metadata": {},
   "source": [
    "Stars and bars\n",
    "\n",
    "x1 + x2 + x3 = 8"
   ]
  }
 ],
 "metadata": {
  "kernelspec": {
   "display_name": "Python 3",
   "language": "python",
   "name": "python3"
  },
  "language_info": {
   "codemirror_mode": {
    "name": "ipython",
    "version": 3
   },
   "file_extension": ".py",
   "mimetype": "text/x-python",
   "name": "python",
   "nbconvert_exporter": "python",
   "pygments_lexer": "ipython3",
   "version": "3.11.2"
  }
 },
 "nbformat": 4,
 "nbformat_minor": 2
}
