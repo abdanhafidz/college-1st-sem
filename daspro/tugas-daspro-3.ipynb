{
 "cells": [
  {
   "cell_type": "markdown",
   "metadata": {},
   "source": [
    "# NO 1\n",
    "<p>\n",
    "Wuddahelll??? SOAL DP????\n",
    "\n",
    "\n",
    "Let f(n) = banyak cara ngisi ubin berukuran 2 x n \n",
    "[][][][][] ... n\n",
    "[][][][][]  ... n\n",
    "\n",
    "Kita bisa lakukan \n",
    "1) [*][|][][][] ... n - 2\n",
    "[|][|][][][]  ... n - 2\n",
    "f(n - 2)\n",
    "2)[|][|][][][] ... n - 2\n",
    "[*][|][][][]  ... n - 2\n",
    "f(n - 2)\n",
    "3)[|][*][][][] ... n - 2\n",
    "[|][|][][][]  ... n - 2\n",
    "f(n - 2)\n",
    "4)[|][|][][] ... n - 2\n",
    "[|][*][][][]  ... n - 2\n",
    "f(n - 2)\n",
    "5)[*][][][] ... n - 1\n",
    "[*][][][][]  ... n - 1\n",
    "f(n - 1)\n",
    "5)[|][|][|][] ... n - 3\n",
    "[|][|][|][][]  ... n - 3\n",
    "f(n - 3)\n",
    "5)[|][|][|][] ... n - 3\n",
    "[|][|][|][][]  ... n - 3\n",
    "f(n - 3)\n",
    "dstt saya udah cari pake coret coretan\n",
    "dp[n] = 4dp[n-2] + 2dp[n-3] + dp[n-1]\n",
    "dp[0] = 1\n",
    "dp[1] = 1\n",
    "dp[2] = 5\n",
    "Base case liat dari sample tc hehehehhee\n",
    "buktiin dulu \n",
    "dp[3] = 4 + 2 + 5 = 11\n",
    "<p>"
   ]
  },
  {
   "cell_type": "code",
   "execution_count": 22,
   "metadata": {},
   "outputs": [
    {
     "ename": "ValueError",
     "evalue": "invalid literal for int() with base 10: ''",
     "output_type": "error",
     "traceback": [
      "\u001b[1;31m---------------------------------------------------------------------------\u001b[0m",
      "\u001b[1;31mValueError\u001b[0m                                Traceback (most recent call last)",
      "\u001b[1;32mc:\\Users\\asus\\OneDrive\\Documents\\kuliah\\daspro\\tugas-daspro-3.ipynb Cell 2\u001b[0m line \u001b[0;36m1\n\u001b[0;32m     <a href='vscode-notebook-cell:/c%3A/Users/asus/OneDrive/Documents/kuliah/daspro/tugas-daspro-3.ipynb#W1sZmlsZQ%3D%3D?line=12'>13</a>\u001b[0m         \u001b[39mreturn\u001b[39;00m memo[n]\n\u001b[0;32m     <a href='vscode-notebook-cell:/c%3A/Users/asus/OneDrive/Documents/kuliah/daspro/tugas-daspro-3.ipynb#W1sZmlsZQ%3D%3D?line=13'>14</a>\u001b[0m \u001b[39mwhile\u001b[39;00m(\u001b[39m1\u001b[39m):\n\u001b[1;32m---> <a href='vscode-notebook-cell:/c%3A/Users/asus/OneDrive/Documents/kuliah/daspro/tugas-daspro-3.ipynb#W1sZmlsZQ%3D%3D?line=14'>15</a>\u001b[0m     n \u001b[39m=\u001b[39m \u001b[39mint\u001b[39;49m(\u001b[39minput\u001b[39;49m())\n\u001b[0;32m     <a href='vscode-notebook-cell:/c%3A/Users/asus/OneDrive/Documents/kuliah/daspro/tugas-daspro-3.ipynb#W1sZmlsZQ%3D%3D?line=15'>16</a>\u001b[0m     \u001b[39mprint\u001b[39m(\u001b[39mint\u001b[39m(dp(n)))\n",
      "\u001b[1;31mValueError\u001b[0m: invalid literal for int() with base 10: ''"
     ]
    }
   ],
   "source": [
    "memo = [-1 for x in range(41)]\n",
    "memo[0] = 1\n",
    "memo[1] = 1\n",
    "memo[2] = 5\n",
    "def dp(n):\n",
    "    if(memo[n]!=-1):\n",
    "        return memo[n]\n",
    "    else:\n",
    "        if(n>0):\n",
    "            memo[n] = 4*dp(n-2) + 2*dp(n-3) + dp(n - 1)\n",
    "        else:\n",
    "            memo[n] = 0\n",
    "        return memo[n]\n",
    "while(1):\n",
    "    n = int(input())\n",
    "    print(int(dp(n)))"
   ]
  },
  {
   "cell_type": "code",
   "execution_count": null,
   "metadata": {},
   "outputs": [],
   "source": []
  },
  {
   "cell_type": "markdown",
   "metadata": {},
   "source": [
    "# No 2\n",
    "hashing biasa aja "
   ]
  },
  {
   "cell_type": "code",
   "execution_count": 10,
   "metadata": {},
   "outputs": [
    {
     "name": "stdout",
     "output_type": "stream",
     "text": [
      "uflojl jogpsnbujlb\n",
      "bmjq lbhb nboej\n"
     ]
    }
   ],
   "source": [
    "s = input()\n",
    "t = int(input())\n",
    "def solve(h):\n",
    "    baru = \"\"\n",
    "    for i in range(0,len(h)):\n",
    "       if(h[i]==\" \"): \n",
    "          now = \" \"\n",
    "       else:\n",
    "          now =  s[(ord(h[i]) - 96) - 1]\n",
    "       baru+=now\n",
    "    print(baru)\n",
    "while(t>0):\n",
    "    h = input()\n",
    "    solve(h)\n",
    "    t-=1\n"
   ]
  },
  {
   "cell_type": "markdown",
   "metadata": {},
   "source": [
    "# NO 3\n",
    "Let dp(n) = how many \"1\" in binary representation of Decimal n.\n",
    "We can make it \n",
    "dp(n) = 1 + dp(n/2), n even\n",
    "dp(n) = dp(n/2), n odd"
   ]
  },
  {
   "cell_type": "code",
   "execution_count": 1,
   "metadata": {},
   "outputs": [
    {
     "ename": "ModuleNotFoundError",
     "evalue": "No module named 'numpy'",
     "output_type": "error",
     "traceback": [
      "\u001b[1;31m---------------------------------------------------------------------------\u001b[0m",
      "\u001b[1;31mModuleNotFoundError\u001b[0m                       Traceback (most recent call last)",
      "\u001b[1;32mc:\\Users\\asus\\OneDrive\\Documents\\kuliah\\daspro\\tugas-daspro-3.ipynb Cell 6\u001b[0m line \u001b[0;36m1\n\u001b[1;32m----> <a href='vscode-notebook-cell:/c%3A/Users/asus/OneDrive/Documents/kuliah/daspro/tugas-daspro-3.ipynb#W5sZmlsZQ%3D%3D?line=0'>1</a>\u001b[0m \u001b[39mimport\u001b[39;00m \u001b[39mnumpy\u001b[39;00m \u001b[39mas\u001b[39;00m \u001b[39mnp\u001b[39;00m\n\u001b[0;32m      <a href='vscode-notebook-cell:/c%3A/Users/asus/OneDrive/Documents/kuliah/daspro/tugas-daspro-3.ipynb#W5sZmlsZQ%3D%3D?line=1'>2</a>\u001b[0m memo \u001b[39m=\u001b[39m np\u001b[39m.\u001b[39mempty(\u001b[39m41\u001b[39m)\n\u001b[0;32m      <a href='vscode-notebook-cell:/c%3A/Users/asus/OneDrive/Documents/kuliah/daspro/tugas-daspro-3.ipynb#W5sZmlsZQ%3D%3D?line=2'>3</a>\u001b[0m memo\u001b[39m.\u001b[39mfill(\u001b[39m-\u001b[39m\u001b[39m1\u001b[39m)\n",
      "\u001b[1;31mModuleNotFoundError\u001b[0m: No module named 'numpy'"
     ]
    }
   ],
   "source": [
    "import numpy as np\n",
    "memo = np.empty(41)\n",
    "memo.fill(-1)\n",
    "memo[0] = 0\n",
    "memo[1] = 1\n",
    "memo[2] = 1\n",
    "memo[3] = 2\n",
    "def dp(n):\n",
    "    if(memo[n]!=-1):\n",
    "        return memo[n]\n",
    "    else:\n",
    "        if(n%2 == 1):\n",
    "            memo[n] = 1 + dp(n//2)\n",
    "        else:\n",
    "            memo[n] = dp(n//2)\n",
    "        return memo[n]\n",
    "N = int(input())\n",
    "S = input()\n",
    "sum = 0\n",
    "for x in (S.split(\" \")):\n",
    "    sum+= int(dp(int(x)))\n",
    "\n",
    "print(sum)\n"
   ]
  },
  {
   "cell_type": "markdown",
   "metadata": {},
   "source": [
    "# NO 4\n",
    "Setelah kpk(h1,h2,h3, ... , hi)%7 hari kemudian dari hari X mereka akan "
   ]
  },
  {
   "cell_type": "code",
   "execution_count": 13,
   "metadata": {},
   "outputs": [
    {
     "name": "stdout",
     "output_type": "stream",
     "text": [
      "Sabtu\n"
     ]
    }
   ],
   "source": [
    "import math\n",
    "n = int(input())\n",
    "S = input()\n",
    "X = input()\n",
    "days = [\"Senin\",\"Selasa\",\"Rabu\",\"Kamis\",\"Jumat\",\"Sabtu\",\"Minggu\"]\n",
    "h = []\n",
    "i = 0\n",
    "for x in (S.split(\" \")):\n",
    "    h.append(int(x))\n",
    "    i+=1\n",
    "res = math.lcm(*h)\n",
    "idx = ((days.index(X) + res)%7)\n",
    "print(days[idx])"
   ]
  },
  {
   "cell_type": "markdown",
   "metadata": {},
   "source": [
    "# NO 5\n",
    "Spiral Ordering Matrix\n",
    "A_0_0 to A_0_(N-1)\n",
    "A_1_(N-1) to A_(N-1)_(N-1)\n",
    "A_(N-1)1 to A_(N-1)0\n",
    "A_(N-2)0 to A(N-3)0 [if N - 3 > 0]\n",
    "A_(N-3)1 to A(N//2)(N//2)"
   ]
  },
  {
   "cell_type": "code",
   "execution_count": 15,
   "metadata": {},
   "outputs": [
    {
     "name": "stdout",
     "output_type": "stream",
     "text": [
      "1 2 3 6 9 8 7 4 5\n"
     ]
    }
   ],
   "source": [
    "def spiral_order(matrix):\n",
    "    result = []\n",
    "    while matrix:\n",
    "        result += matrix[0]\n",
    "        matrix = list(zip(*matrix[1:]))[::-1]\n",
    "    return result\n",
    "\n",
    "N = int(input())\n",
    "\n",
    "matrix = [list(map(int, input().split())) for _ in range(N)]\n",
    "\n",
    "spiral_result = spiral_order(matrix)\n",
    "\n",
    "print(*spiral_result)"
   ]
  },
  {
   "cell_type": "markdown",
   "metadata": {},
   "source": [
    "# NO 6\n",
    "Biasa aja cuy"
   ]
  },
  {
   "cell_type": "code",
   "execution_count": 21,
   "metadata": {},
   "outputs": [
    {
     "name": "stdout",
     "output_type": "stream",
     "text": [
      "Mehas pasti suka!\n",
      "Mehas pasti suka!\n",
      "Mehas pasti suka!\n",
      "Jangan ini, deh.\n",
      "Mehas pasti suka!\n"
     ]
    }
   ],
   "source": [
    "n = int(input())\n",
    "\n",
    "\n",
    "while(n>0):\n",
    "    x = input()\n",
    "    if(x == x[::-1] and x!=\"\"):\n",
    "        print(\"Mehas pasti suka!\")\n",
    "    else:\n",
    "        print(\"Jangan ini, deh.\")\n",
    "    n-=1"
   ]
  },
  {
   "cell_type": "code",
   "execution_count": null,
   "metadata": {},
   "outputs": [],
   "source": []
  }
 ],
 "metadata": {
  "kernelspec": {
   "display_name": "Python 3",
   "language": "python",
   "name": "python3"
  },
  "language_info": {
   "codemirror_mode": {
    "name": "ipython",
    "version": 3
   },
   "file_extension": ".py",
   "mimetype": "text/x-python",
   "name": "python",
   "nbconvert_exporter": "python",
   "pygments_lexer": "ipython3",
   "version": "3.10.12"
  },
  "orig_nbformat": 4
 },
 "nbformat": 4,
 "nbformat_minor": 2
}
